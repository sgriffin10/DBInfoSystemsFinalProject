{
  "nbformat": 4,
  "nbformat_minor": 0,
  "metadata": {
    "colab": {
      "name": "550_Project-Data_Cleaning_and_Data_Exploratory.ipynb",
      "provenance": [],
      "collapsed_sections": []
    },
    "kernelspec": {
      "name": "python3",
      "display_name": "Python 3"
    },
    "language_info": {
      "name": "python"
    }
  },
  "cells": [
    {
      "cell_type": "code",
      "execution_count": 1,
      "metadata": {
        "id": "AioUVAqAKK0s"
      },
      "outputs": [],
      "source": [
        "from google.colab import drive"
      ]
    },
    {
      "cell_type": "code",
      "source": [
        "drive.mount('/content/drive')"
      ],
      "metadata": {
        "colab": {
          "base_uri": "https://localhost:8080/"
        },
        "id": "POVqaXbjKbEt",
        "outputId": "e24aee22-444c-4d6a-9be4-28679a9387fd"
      },
      "execution_count": 4,
      "outputs": [
        {
          "output_type": "stream",
          "name": "stdout",
          "text": [
            "Mounted at /content/drive\n"
          ]
        }
      ]
    },
    {
      "cell_type": "code",
      "source": [
        "import pandas as pd\n",
        "\n",
        "# export df to .csv\n",
        "from google.colab import files"
      ],
      "metadata": {
        "id": "FaE7z-UXKnxo"
      },
      "execution_count": 5,
      "outputs": []
    },
    {
      "cell_type": "markdown",
      "source": [
        "albums.csv"
      ],
      "metadata": {
        "id": "PBnOedzIRWgZ"
      }
    },
    {
      "cell_type": "code",
      "source": [
        "df = pd.read_csv('/content/drive/MyDrive/Colab Notebooks/Data/spotify_albums.csv')"
      ],
      "metadata": {
        "id": "Bm4r6edrK9rD"
      },
      "execution_count": 6,
      "outputs": []
    },
    {
      "cell_type": "code",
      "source": [
        "# Drop first column \n",
        "df = df.iloc[: , 1:]"
      ],
      "metadata": {
        "id": "iSXlP1P6Ma4m"
      },
      "execution_count": 7,
      "outputs": []
    },
    {
      "cell_type": "code",
      "source": [
        "# Show first 2 rows of the dataset:\n",
        "df.head(2)"
      ],
      "metadata": {
        "colab": {
          "base_uri": "https://localhost:8080/",
          "height": 263
        },
        "id": "OdR2gkUFLTbA",
        "outputId": "a1ee0ad9-4c69-44be-aaf6-fa2e5c6b6357"
      },
      "execution_count": 8,
      "outputs": [
        {
          "output_type": "execute_result",
          "data": {
            "text/html": [
              "\n",
              "  <div id=\"df-1e30e047-4ff9-4249-8a9e-9279c5ce8d5c\">\n",
              "    <div class=\"colab-df-container\">\n",
              "      <div>\n",
              "<style scoped>\n",
              "    .dataframe tbody tr th:only-of-type {\n",
              "        vertical-align: middle;\n",
              "    }\n",
              "\n",
              "    .dataframe tbody tr th {\n",
              "        vertical-align: top;\n",
              "    }\n",
              "\n",
              "    .dataframe thead th {\n",
              "        text-align: right;\n",
              "    }\n",
              "</style>\n",
              "<table border=\"1\" class=\"dataframe\">\n",
              "  <thead>\n",
              "    <tr style=\"text-align: right;\">\n",
              "      <th></th>\n",
              "      <th>album_type</th>\n",
              "      <th>artist_id</th>\n",
              "      <th>available_markets</th>\n",
              "      <th>external_urls</th>\n",
              "      <th>href</th>\n",
              "      <th>id</th>\n",
              "      <th>images</th>\n",
              "      <th>name</th>\n",
              "      <th>release_date</th>\n",
              "      <th>release_date_precision</th>\n",
              "      <th>total_tracks</th>\n",
              "      <th>track_id</th>\n",
              "      <th>track_name_prev</th>\n",
              "      <th>uri</th>\n",
              "      <th>type</th>\n",
              "    </tr>\n",
              "  </thead>\n",
              "  <tbody>\n",
              "    <tr>\n",
              "      <th>0</th>\n",
              "      <td>single</td>\n",
              "      <td>3DiDSECUqqY1AuBP8qtaIa</td>\n",
              "      <td>['AD', 'AE', 'AR', 'AT', 'AU', 'BE', 'BG', 'BH...</td>\n",
              "      <td>{'spotify': 'https://open.spotify.com/album/1g...</td>\n",
              "      <td>https://api.spotify.com/v1/albums/1gAM7M4rBwEb...</td>\n",
              "      <td>1gAM7M4rBwEbSPeAQR2nx1</td>\n",
              "      <td>[{'height': 640, 'url': 'https://i.scdn.co/ima...</td>\n",
              "      <td>If I Ain't Got You EP</td>\n",
              "      <td>2019-02-08</td>\n",
              "      <td>day</td>\n",
              "      <td>6</td>\n",
              "      <td>2iejTMy9XZ8Gaae0aQ2yl0</td>\n",
              "      <td>track_32</td>\n",
              "      <td>spotify:album:1gAM7M4rBwEbSPeAQR2nx1</td>\n",
              "      <td>album</td>\n",
              "    </tr>\n",
              "    <tr>\n",
              "      <th>1</th>\n",
              "      <td>album</td>\n",
              "      <td>6s1pCNXcbdtQJlsnM1hRIA</td>\n",
              "      <td>['AD', 'AE', 'AR', 'AT', 'AU', 'BE', 'BG', 'BH...</td>\n",
              "      <td>{'spotify': 'https://open.spotify.com/album/4K...</td>\n",
              "      <td>https://api.spotify.com/v1/albums/4KfJZV7WfolY...</td>\n",
              "      <td>4KfJZV7WfolYlxBzOTo66s</td>\n",
              "      <td>[{'height': 640, 'url': 'https://i.scdn.co/ima...</td>\n",
              "      <td>Shostakovich Symphony No.5 - Four Romances on ...</td>\n",
              "      <td>2019-03-01</td>\n",
              "      <td>day</td>\n",
              "      <td>8</td>\n",
              "      <td>1WQfghEjszJJ4H8MAWrQ2C</td>\n",
              "      <td>track_11</td>\n",
              "      <td>spotify:album:4KfJZV7WfolYlxBzOTo66s</td>\n",
              "      <td>album</td>\n",
              "    </tr>\n",
              "  </tbody>\n",
              "</table>\n",
              "</div>\n",
              "      <button class=\"colab-df-convert\" onclick=\"convertToInteractive('df-1e30e047-4ff9-4249-8a9e-9279c5ce8d5c')\"\n",
              "              title=\"Convert this dataframe to an interactive table.\"\n",
              "              style=\"display:none;\">\n",
              "        \n",
              "  <svg xmlns=\"http://www.w3.org/2000/svg\" height=\"24px\"viewBox=\"0 0 24 24\"\n",
              "       width=\"24px\">\n",
              "    <path d=\"M0 0h24v24H0V0z\" fill=\"none\"/>\n",
              "    <path d=\"M18.56 5.44l.94 2.06.94-2.06 2.06-.94-2.06-.94-.94-2.06-.94 2.06-2.06.94zm-11 1L8.5 8.5l.94-2.06 2.06-.94-2.06-.94L8.5 2.5l-.94 2.06-2.06.94zm10 10l.94 2.06.94-2.06 2.06-.94-2.06-.94-.94-2.06-.94 2.06-2.06.94z\"/><path d=\"M17.41 7.96l-1.37-1.37c-.4-.4-.92-.59-1.43-.59-.52 0-1.04.2-1.43.59L10.3 9.45l-7.72 7.72c-.78.78-.78 2.05 0 2.83L4 21.41c.39.39.9.59 1.41.59.51 0 1.02-.2 1.41-.59l7.78-7.78 2.81-2.81c.8-.78.8-2.07 0-2.86zM5.41 20L4 18.59l7.72-7.72 1.47 1.35L5.41 20z\"/>\n",
              "  </svg>\n",
              "      </button>\n",
              "      \n",
              "  <style>\n",
              "    .colab-df-container {\n",
              "      display:flex;\n",
              "      flex-wrap:wrap;\n",
              "      gap: 12px;\n",
              "    }\n",
              "\n",
              "    .colab-df-convert {\n",
              "      background-color: #E8F0FE;\n",
              "      border: none;\n",
              "      border-radius: 50%;\n",
              "      cursor: pointer;\n",
              "      display: none;\n",
              "      fill: #1967D2;\n",
              "      height: 32px;\n",
              "      padding: 0 0 0 0;\n",
              "      width: 32px;\n",
              "    }\n",
              "\n",
              "    .colab-df-convert:hover {\n",
              "      background-color: #E2EBFA;\n",
              "      box-shadow: 0px 1px 2px rgba(60, 64, 67, 0.3), 0px 1px 3px 1px rgba(60, 64, 67, 0.15);\n",
              "      fill: #174EA6;\n",
              "    }\n",
              "\n",
              "    [theme=dark] .colab-df-convert {\n",
              "      background-color: #3B4455;\n",
              "      fill: #D2E3FC;\n",
              "    }\n",
              "\n",
              "    [theme=dark] .colab-df-convert:hover {\n",
              "      background-color: #434B5C;\n",
              "      box-shadow: 0px 1px 3px 1px rgba(0, 0, 0, 0.15);\n",
              "      filter: drop-shadow(0px 1px 2px rgba(0, 0, 0, 0.3));\n",
              "      fill: #FFFFFF;\n",
              "    }\n",
              "  </style>\n",
              "\n",
              "      <script>\n",
              "        const buttonEl =\n",
              "          document.querySelector('#df-1e30e047-4ff9-4249-8a9e-9279c5ce8d5c button.colab-df-convert');\n",
              "        buttonEl.style.display =\n",
              "          google.colab.kernel.accessAllowed ? 'block' : 'none';\n",
              "\n",
              "        async function convertToInteractive(key) {\n",
              "          const element = document.querySelector('#df-1e30e047-4ff9-4249-8a9e-9279c5ce8d5c');\n",
              "          const dataTable =\n",
              "            await google.colab.kernel.invokeFunction('convertToInteractive',\n",
              "                                                     [key], {});\n",
              "          if (!dataTable) return;\n",
              "\n",
              "          const docLinkHtml = 'Like what you see? Visit the ' +\n",
              "            '<a target=\"_blank\" href=https://colab.research.google.com/notebooks/data_table.ipynb>data table notebook</a>'\n",
              "            + ' to learn more about interactive tables.';\n",
              "          element.innerHTML = '';\n",
              "          dataTable['output_type'] = 'display_data';\n",
              "          await google.colab.output.renderOutput(dataTable, element);\n",
              "          const docLink = document.createElement('div');\n",
              "          docLink.innerHTML = docLinkHtml;\n",
              "          element.appendChild(docLink);\n",
              "        }\n",
              "      </script>\n",
              "    </div>\n",
              "  </div>\n",
              "  "
            ],
            "text/plain": [
              "  album_type               artist_id  \\\n",
              "0     single  3DiDSECUqqY1AuBP8qtaIa   \n",
              "1      album  6s1pCNXcbdtQJlsnM1hRIA   \n",
              "\n",
              "                                   available_markets  \\\n",
              "0  ['AD', 'AE', 'AR', 'AT', 'AU', 'BE', 'BG', 'BH...   \n",
              "1  ['AD', 'AE', 'AR', 'AT', 'AU', 'BE', 'BG', 'BH...   \n",
              "\n",
              "                                       external_urls  \\\n",
              "0  {'spotify': 'https://open.spotify.com/album/1g...   \n",
              "1  {'spotify': 'https://open.spotify.com/album/4K...   \n",
              "\n",
              "                                                href                      id  \\\n",
              "0  https://api.spotify.com/v1/albums/1gAM7M4rBwEb...  1gAM7M4rBwEbSPeAQR2nx1   \n",
              "1  https://api.spotify.com/v1/albums/4KfJZV7WfolY...  4KfJZV7WfolYlxBzOTo66s   \n",
              "\n",
              "                                              images  \\\n",
              "0  [{'height': 640, 'url': 'https://i.scdn.co/ima...   \n",
              "1  [{'height': 640, 'url': 'https://i.scdn.co/ima...   \n",
              "\n",
              "                                                name release_date  \\\n",
              "0                              If I Ain't Got You EP   2019-02-08   \n",
              "1  Shostakovich Symphony No.5 - Four Romances on ...   2019-03-01   \n",
              "\n",
              "  release_date_precision  total_tracks                track_id  \\\n",
              "0                    day             6  2iejTMy9XZ8Gaae0aQ2yl0   \n",
              "1                    day             8  1WQfghEjszJJ4H8MAWrQ2C   \n",
              "\n",
              "  track_name_prev                                   uri   type  \n",
              "0        track_32  spotify:album:1gAM7M4rBwEbSPeAQR2nx1  album  \n",
              "1        track_11  spotify:album:4KfJZV7WfolYlxBzOTo66s  album  "
            ]
          },
          "metadata": {},
          "execution_count": 8
        }
      ]
    },
    {
      "cell_type": "code",
      "source": [
        "artist_id = df['artist_id']\n",
        "\n",
        "for row in artist_id[0:50]:\n",
        "    print(row)\n",
        "    print(type(row))"
      ],
      "metadata": {
        "id": "NfvcPiWrBRIM"
      },
      "execution_count": null,
      "outputs": []
    },
    {
      "cell_type": "code",
      "source": [
        "id = df['id']\n",
        "\n",
        "for row in id[0:50]:\n",
        "    print(row)\n",
        "    print(type(row))"
      ],
      "metadata": {
        "id": "Ta04r8QQBRFW"
      },
      "execution_count": null,
      "outputs": []
    },
    {
      "cell_type": "code",
      "source": [
        "track_id = df['track_id']\n",
        "\n",
        "for row in track_id[0:50]:\n",
        "    print(row)\n",
        "    print(type(row))"
      ],
      "metadata": {
        "id": "qXGuSjojBRCu"
      },
      "execution_count": null,
      "outputs": []
    },
    {
      "cell_type": "markdown",
      "source": [
        "Notable Columns:"
      ],
      "metadata": {
        "id": "CTYp6lFrmwtN"
      }
    },
    {
      "cell_type": "code",
      "source": [
        "# 'images' column: contains image url\n",
        "df['images'].iloc[0]"
      ],
      "metadata": {
        "colab": {
          "base_uri": "https://localhost:8080/",
          "height": 71
        },
        "id": "xUbB06xqmC31",
        "outputId": "28235869-a61d-4261-e36c-2dc516d56792"
      },
      "execution_count": null,
      "outputs": [
        {
          "output_type": "execute_result",
          "data": {
            "application/vnd.google.colaboratory.intrinsic+json": {
              "type": "string"
            },
            "text/plain": [
              "\"[{'height': 640, 'url': 'https://i.scdn.co/image/5872e4d8fac4ef7552576d481b1d676189b4056a', 'width': 640}, {'height': 300, 'url': 'https://i.scdn.co/image/983855cfaf96ee784a176fff00ebbba541dcad04', 'width': 300}, {'height': 64, 'url': 'https://i.scdn.co/image/328e19dd8caaaaa827858875be19a82f47a9b96c', 'width': 64}]\""
            ]
          },
          "metadata": {},
          "execution_count": 43
        }
      ]
    },
    {
      "cell_type": "code",
      "source": [
        "# This column provides a url that opens up the Spotify website:\n",
        "df['external_urls'].iloc[0]"
      ],
      "metadata": {
        "colab": {
          "base_uri": "https://localhost:8080/",
          "height": 35
        },
        "id": "MyhVWi8xmChc",
        "outputId": "2f98e2fb-78c8-4b4b-9d95-ffb19e347b87"
      },
      "execution_count": null,
      "outputs": [
        {
          "output_type": "execute_result",
          "data": {
            "application/vnd.google.colaboratory.intrinsic+json": {
              "type": "string"
            },
            "text/plain": [
              "\"{'spotify': 'https://open.spotify.com/album/1gAM7M4rBwEbSPeAQR2nx1'}\""
            ]
          },
          "metadata": {},
          "execution_count": 44
        }
      ]
    },
    {
      "cell_type": "code",
      "source": [
        "# check null value for entire df:\n",
        "df.isnull().values.any()"
      ],
      "metadata": {
        "colab": {
          "base_uri": "https://localhost:8080/"
        },
        "id": "L7BH3yOWLZTV",
        "outputId": "d212aea1-7e7e-4458-f6ca-7ce55f394812"
      },
      "execution_count": null,
      "outputs": [
        {
          "output_type": "execute_result",
          "data": {
            "text/plain": [
              "False"
            ]
          },
          "metadata": {},
          "execution_count": 45
        }
      ]
    },
    {
      "cell_type": "code",
      "source": [
        "# Stats for the whole table:\n",
        "df.info()"
      ],
      "metadata": {
        "colab": {
          "base_uri": "https://localhost:8080/"
        },
        "id": "H_3DOg6LSjlF",
        "outputId": "f6b207ad-6a09-4eb4-9cf6-dd27e0a9be92"
      },
      "execution_count": null,
      "outputs": [
        {
          "output_type": "stream",
          "name": "stdout",
          "text": [
            "<class 'pandas.core.frame.DataFrame'>\n",
            "RangeIndex: 75511 entries, 0 to 75510\n",
            "Data columns (total 15 columns):\n",
            " #   Column                  Non-Null Count  Dtype \n",
            "---  ------                  --------------  ----- \n",
            " 0   album_type              75511 non-null  object\n",
            " 1   artist_id               75511 non-null  object\n",
            " 2   available_markets       75511 non-null  object\n",
            " 3   external_urls           75511 non-null  object\n",
            " 4   href                    75511 non-null  object\n",
            " 5   id                      75511 non-null  object\n",
            " 6   images                  75511 non-null  object\n",
            " 7   name                    75511 non-null  object\n",
            " 8   release_date            75511 non-null  object\n",
            " 9   release_date_precision  75511 non-null  object\n",
            " 10  total_tracks            75511 non-null  int64 \n",
            " 11  track_id                75511 non-null  object\n",
            " 12  track_name_prev         75511 non-null  object\n",
            " 13  uri                     75511 non-null  object\n",
            " 14  type                    75511 non-null  object\n",
            "dtypes: int64(1), object(14)\n",
            "memory usage: 8.6+ MB\n"
          ]
        }
      ]
    },
    {
      "cell_type": "markdown",
      "source": [
        "From above, we can see albums.csv has:\n",
        "75,511 rows, 15 columns."
      ],
      "metadata": {
        "id": "BWi8MhbkS9yO"
      }
    },
    {
      "cell_type": "markdown",
      "source": [
        "Stats for Individual columns:"
      ],
      "metadata": {
        "id": "qMEzlFJPocio"
      }
    },
    {
      "cell_type": "code",
      "source": [
        "# Stats for column: 'total_tracks':\n",
        "df['total_tracks'].describe()"
      ],
      "metadata": {
        "colab": {
          "base_uri": "https://localhost:8080/"
        },
        "id": "wzto9irpQqu2",
        "outputId": "205858c8-06e7-4801-af90-a1b235cfd88c"
      },
      "execution_count": null,
      "outputs": [
        {
          "output_type": "execute_result",
          "data": {
            "text/plain": [
              "count    75511.000000\n",
              "mean         8.235807\n",
              "std         11.669811\n",
              "min          1.000000\n",
              "25%          1.000000\n",
              "50%          5.000000\n",
              "75%         12.000000\n",
              "max        977.000000\n",
              "Name: total_tracks, dtype: float64"
            ]
          },
          "metadata": {},
          "execution_count": 47
        }
      ]
    },
    {
      "cell_type": "code",
      "source": [
        "# Out of curiosity, which row has the maximum 977 tracks??\n",
        "res_df = df.loc[df['total_tracks'] == 977]\n",
        "res_df"
      ],
      "metadata": {
        "colab": {
          "base_uri": "https://localhost:8080/",
          "height": 231
        },
        "id": "dRVAY_62o1Fl",
        "outputId": "2732d8c6-ebe1-462d-ff38-97c37a74d902"
      },
      "execution_count": null,
      "outputs": [
        {
          "output_type": "execute_result",
          "data": {
            "text/html": [
              "\n",
              "  <div id=\"df-4bc2bf35-441d-4a0b-8e1a-8c43dc6b4035\">\n",
              "    <div class=\"colab-df-container\">\n",
              "      <div>\n",
              "<style scoped>\n",
              "    .dataframe tbody tr th:only-of-type {\n",
              "        vertical-align: middle;\n",
              "    }\n",
              "\n",
              "    .dataframe tbody tr th {\n",
              "        vertical-align: top;\n",
              "    }\n",
              "\n",
              "    .dataframe thead th {\n",
              "        text-align: right;\n",
              "    }\n",
              "</style>\n",
              "<table border=\"1\" class=\"dataframe\">\n",
              "  <thead>\n",
              "    <tr style=\"text-align: right;\">\n",
              "      <th></th>\n",
              "      <th>album_type</th>\n",
              "      <th>artist_id</th>\n",
              "      <th>available_markets</th>\n",
              "      <th>external_urls</th>\n",
              "      <th>href</th>\n",
              "      <th>id</th>\n",
              "      <th>images</th>\n",
              "      <th>name</th>\n",
              "      <th>release_date</th>\n",
              "      <th>release_date_precision</th>\n",
              "      <th>total_tracks</th>\n",
              "      <th>track_id</th>\n",
              "      <th>track_name_prev</th>\n",
              "      <th>uri</th>\n",
              "      <th>type</th>\n",
              "    </tr>\n",
              "  </thead>\n",
              "  <tbody>\n",
              "    <tr>\n",
              "      <th>18435</th>\n",
              "      <td>compilation</td>\n",
              "      <td>13dkPjqmbcchm8cXjEJQeP</td>\n",
              "      <td>['AD', 'AE', 'AR', 'AT', 'AU', 'BE', 'BG', 'BH...</td>\n",
              "      <td>{'spotify': 'https://open.spotify.com/album/7h...</td>\n",
              "      <td>https://api.spotify.com/v1/albums/7hp14KNmE35p...</td>\n",
              "      <td>7hp14KNmE35pYYyJQ8aQrP</td>\n",
              "      <td>[{'height': 640, 'url': 'https://i.scdn.co/ima...</td>\n",
              "      <td>Glenn Gould Remastered - The Complete Columbia...</td>\n",
              "      <td>2015-09-11</td>\n",
              "      <td>day</td>\n",
              "      <td>977</td>\n",
              "      <td>54RqMZ4G0WF7A6s8adMYuu</td>\n",
              "      <td>track_57</td>\n",
              "      <td>spotify:album:7hp14KNmE35pYYyJQ8aQrP</td>\n",
              "      <td>album</td>\n",
              "    </tr>\n",
              "  </tbody>\n",
              "</table>\n",
              "</div>\n",
              "      <button class=\"colab-df-convert\" onclick=\"convertToInteractive('df-4bc2bf35-441d-4a0b-8e1a-8c43dc6b4035')\"\n",
              "              title=\"Convert this dataframe to an interactive table.\"\n",
              "              style=\"display:none;\">\n",
              "        \n",
              "  <svg xmlns=\"http://www.w3.org/2000/svg\" height=\"24px\"viewBox=\"0 0 24 24\"\n",
              "       width=\"24px\">\n",
              "    <path d=\"M0 0h24v24H0V0z\" fill=\"none\"/>\n",
              "    <path d=\"M18.56 5.44l.94 2.06.94-2.06 2.06-.94-2.06-.94-.94-2.06-.94 2.06-2.06.94zm-11 1L8.5 8.5l.94-2.06 2.06-.94-2.06-.94L8.5 2.5l-.94 2.06-2.06.94zm10 10l.94 2.06.94-2.06 2.06-.94-2.06-.94-.94-2.06-.94 2.06-2.06.94z\"/><path d=\"M17.41 7.96l-1.37-1.37c-.4-.4-.92-.59-1.43-.59-.52 0-1.04.2-1.43.59L10.3 9.45l-7.72 7.72c-.78.78-.78 2.05 0 2.83L4 21.41c.39.39.9.59 1.41.59.51 0 1.02-.2 1.41-.59l7.78-7.78 2.81-2.81c.8-.78.8-2.07 0-2.86zM5.41 20L4 18.59l7.72-7.72 1.47 1.35L5.41 20z\"/>\n",
              "  </svg>\n",
              "      </button>\n",
              "      \n",
              "  <style>\n",
              "    .colab-df-container {\n",
              "      display:flex;\n",
              "      flex-wrap:wrap;\n",
              "      gap: 12px;\n",
              "    }\n",
              "\n",
              "    .colab-df-convert {\n",
              "      background-color: #E8F0FE;\n",
              "      border: none;\n",
              "      border-radius: 50%;\n",
              "      cursor: pointer;\n",
              "      display: none;\n",
              "      fill: #1967D2;\n",
              "      height: 32px;\n",
              "      padding: 0 0 0 0;\n",
              "      width: 32px;\n",
              "    }\n",
              "\n",
              "    .colab-df-convert:hover {\n",
              "      background-color: #E2EBFA;\n",
              "      box-shadow: 0px 1px 2px rgba(60, 64, 67, 0.3), 0px 1px 3px 1px rgba(60, 64, 67, 0.15);\n",
              "      fill: #174EA6;\n",
              "    }\n",
              "\n",
              "    [theme=dark] .colab-df-convert {\n",
              "      background-color: #3B4455;\n",
              "      fill: #D2E3FC;\n",
              "    }\n",
              "\n",
              "    [theme=dark] .colab-df-convert:hover {\n",
              "      background-color: #434B5C;\n",
              "      box-shadow: 0px 1px 3px 1px rgba(0, 0, 0, 0.15);\n",
              "      filter: drop-shadow(0px 1px 2px rgba(0, 0, 0, 0.3));\n",
              "      fill: #FFFFFF;\n",
              "    }\n",
              "  </style>\n",
              "\n",
              "      <script>\n",
              "        const buttonEl =\n",
              "          document.querySelector('#df-4bc2bf35-441d-4a0b-8e1a-8c43dc6b4035 button.colab-df-convert');\n",
              "        buttonEl.style.display =\n",
              "          google.colab.kernel.accessAllowed ? 'block' : 'none';\n",
              "\n",
              "        async function convertToInteractive(key) {\n",
              "          const element = document.querySelector('#df-4bc2bf35-441d-4a0b-8e1a-8c43dc6b4035');\n",
              "          const dataTable =\n",
              "            await google.colab.kernel.invokeFunction('convertToInteractive',\n",
              "                                                     [key], {});\n",
              "          if (!dataTable) return;\n",
              "\n",
              "          const docLinkHtml = 'Like what you see? Visit the ' +\n",
              "            '<a target=\"_blank\" href=https://colab.research.google.com/notebooks/data_table.ipynb>data table notebook</a>'\n",
              "            + ' to learn more about interactive tables.';\n",
              "          element.innerHTML = '';\n",
              "          dataTable['output_type'] = 'display_data';\n",
              "          await google.colab.output.renderOutput(dataTable, element);\n",
              "          const docLink = document.createElement('div');\n",
              "          docLink.innerHTML = docLinkHtml;\n",
              "          element.appendChild(docLink);\n",
              "        }\n",
              "      </script>\n",
              "    </div>\n",
              "  </div>\n",
              "  "
            ],
            "text/plain": [
              "        album_type  ...   type\n",
              "18435  compilation  ...  album\n",
              "\n",
              "[1 rows x 15 columns]"
            ]
          },
          "metadata": {},
          "execution_count": 48
        }
      ]
    },
    {
      "cell_type": "code",
      "source": [
        "# different 'album_type' values:\n",
        "df['album_type'].unique()"
      ],
      "metadata": {
        "colab": {
          "base_uri": "https://localhost:8080/"
        },
        "id": "ynxnHRkCppsP",
        "outputId": "9a92dfff-2bc5-4fb4-e5dd-f20eb4c90085"
      },
      "execution_count": null,
      "outputs": [
        {
          "output_type": "execute_result",
          "data": {
            "text/plain": [
              "array(['single', 'album', 'compilation'], dtype=object)"
            ]
          },
          "metadata": {},
          "execution_count": 49
        }
      ]
    },
    {
      "cell_type": "markdown",
      "source": [
        "Export the cleaned file:\n"
      ],
      "metadata": {
        "id": "Y30K0BDgbL8E"
      }
    },
    {
      "cell_type": "code",
      "source": [
        "# df.to_csv('clean_albums.csv') \n",
        "# files.download('clean_albums.csv')"
      ],
      "metadata": {
        "id": "QsLEV-K5bOc2"
      },
      "execution_count": null,
      "outputs": []
    },
    {
      "cell_type": "markdown",
      "source": [
        "artists.csv"
      ],
      "metadata": {
        "id": "A6iQB6JtOHhn"
      }
    },
    {
      "cell_type": "code",
      "source": [
        "df = pd.read_csv('/content/drive/MyDrive/Colab Notebooks/Data/spotify_artists.csv')"
      ],
      "metadata": {
        "id": "NZapoevPVRXq"
      },
      "execution_count": 12,
      "outputs": []
    },
    {
      "cell_type": "code",
      "source": [
        "# Drop first column \n",
        "df = df.iloc[: , 1:]"
      ],
      "metadata": {
        "id": "-yv3WdC3VRUC"
      },
      "execution_count": 13,
      "outputs": []
    },
    {
      "cell_type": "code",
      "source": [
        "# check null value for entire df:\n",
        "df.isnull().values.any()"
      ],
      "metadata": {
        "colab": {
          "base_uri": "https://localhost:8080/"
        },
        "id": "aUIiDYFoNJry",
        "outputId": "a1178a0a-b1f3-4d0c-d893-36f27a3ccc41"
      },
      "execution_count": 14,
      "outputs": [
        {
          "output_type": "execute_result",
          "data": {
            "text/plain": [
              "True"
            ]
          },
          "metadata": {},
          "execution_count": 14
        }
      ]
    },
    {
      "cell_type": "markdown",
      "source": [
        "Data Cleaning:"
      ],
      "metadata": {
        "id": "SBbKAsDrNSdH"
      }
    },
    {
      "cell_type": "code",
      "source": [
        "# Output rows with null values:\n",
        "is_NaN = df.isnull()\n",
        "row_has_NaN = is_NaN.any(axis=1)\n",
        "rows_with_NaN = df[row_has_NaN]\n",
        "rows_with_NaN"
      ],
      "metadata": {
        "colab": {
          "base_uri": "https://localhost:8080/",
          "height": 80
        },
        "id": "L-QsJyRIWNnj",
        "outputId": "eb9605bd-a076-4c51-f8f0-2231993dbf60"
      },
      "execution_count": 15,
      "outputs": [
        {
          "output_type": "execute_result",
          "data": {
            "text/html": [
              "\n",
              "  <div id=\"df-d2405945-4e2b-4a1e-abe0-ed04f0835cfd\">\n",
              "    <div class=\"colab-df-container\">\n",
              "      <div>\n",
              "<style scoped>\n",
              "    .dataframe tbody tr th:only-of-type {\n",
              "        vertical-align: middle;\n",
              "    }\n",
              "\n",
              "    .dataframe tbody tr th {\n",
              "        vertical-align: top;\n",
              "    }\n",
              "\n",
              "    .dataframe thead th {\n",
              "        text-align: right;\n",
              "    }\n",
              "</style>\n",
              "<table border=\"1\" class=\"dataframe\">\n",
              "  <thead>\n",
              "    <tr style=\"text-align: right;\">\n",
              "      <th></th>\n",
              "      <th>artist_popularity</th>\n",
              "      <th>followers</th>\n",
              "      <th>genres</th>\n",
              "      <th>id</th>\n",
              "      <th>name</th>\n",
              "      <th>track_id</th>\n",
              "      <th>track_name_prev</th>\n",
              "      <th>type</th>\n",
              "    </tr>\n",
              "  </thead>\n",
              "  <tbody>\n",
              "    <tr>\n",
              "      <th>3836</th>\n",
              "      <td>50</td>\n",
              "      <td>1142</td>\n",
              "      <td>[]</td>\n",
              "      <td>4oPYazJJ1o4rWBrTw9lm40</td>\n",
              "      <td>NaN</td>\n",
              "      <td>5OJZjoVoyNbzD24C7tkycW</td>\n",
              "      <td>track_7</td>\n",
              "      <td>artist</td>\n",
              "    </tr>\n",
              "  </tbody>\n",
              "</table>\n",
              "</div>\n",
              "      <button class=\"colab-df-convert\" onclick=\"convertToInteractive('df-d2405945-4e2b-4a1e-abe0-ed04f0835cfd')\"\n",
              "              title=\"Convert this dataframe to an interactive table.\"\n",
              "              style=\"display:none;\">\n",
              "        \n",
              "  <svg xmlns=\"http://www.w3.org/2000/svg\" height=\"24px\"viewBox=\"0 0 24 24\"\n",
              "       width=\"24px\">\n",
              "    <path d=\"M0 0h24v24H0V0z\" fill=\"none\"/>\n",
              "    <path d=\"M18.56 5.44l.94 2.06.94-2.06 2.06-.94-2.06-.94-.94-2.06-.94 2.06-2.06.94zm-11 1L8.5 8.5l.94-2.06 2.06-.94-2.06-.94L8.5 2.5l-.94 2.06-2.06.94zm10 10l.94 2.06.94-2.06 2.06-.94-2.06-.94-.94-2.06-.94 2.06-2.06.94z\"/><path d=\"M17.41 7.96l-1.37-1.37c-.4-.4-.92-.59-1.43-.59-.52 0-1.04.2-1.43.59L10.3 9.45l-7.72 7.72c-.78.78-.78 2.05 0 2.83L4 21.41c.39.39.9.59 1.41.59.51 0 1.02-.2 1.41-.59l7.78-7.78 2.81-2.81c.8-.78.8-2.07 0-2.86zM5.41 20L4 18.59l7.72-7.72 1.47 1.35L5.41 20z\"/>\n",
              "  </svg>\n",
              "      </button>\n",
              "      \n",
              "  <style>\n",
              "    .colab-df-container {\n",
              "      display:flex;\n",
              "      flex-wrap:wrap;\n",
              "      gap: 12px;\n",
              "    }\n",
              "\n",
              "    .colab-df-convert {\n",
              "      background-color: #E8F0FE;\n",
              "      border: none;\n",
              "      border-radius: 50%;\n",
              "      cursor: pointer;\n",
              "      display: none;\n",
              "      fill: #1967D2;\n",
              "      height: 32px;\n",
              "      padding: 0 0 0 0;\n",
              "      width: 32px;\n",
              "    }\n",
              "\n",
              "    .colab-df-convert:hover {\n",
              "      background-color: #E2EBFA;\n",
              "      box-shadow: 0px 1px 2px rgba(60, 64, 67, 0.3), 0px 1px 3px 1px rgba(60, 64, 67, 0.15);\n",
              "      fill: #174EA6;\n",
              "    }\n",
              "\n",
              "    [theme=dark] .colab-df-convert {\n",
              "      background-color: #3B4455;\n",
              "      fill: #D2E3FC;\n",
              "    }\n",
              "\n",
              "    [theme=dark] .colab-df-convert:hover {\n",
              "      background-color: #434B5C;\n",
              "      box-shadow: 0px 1px 3px 1px rgba(0, 0, 0, 0.15);\n",
              "      filter: drop-shadow(0px 1px 2px rgba(0, 0, 0, 0.3));\n",
              "      fill: #FFFFFF;\n",
              "    }\n",
              "  </style>\n",
              "\n",
              "      <script>\n",
              "        const buttonEl =\n",
              "          document.querySelector('#df-d2405945-4e2b-4a1e-abe0-ed04f0835cfd button.colab-df-convert');\n",
              "        buttonEl.style.display =\n",
              "          google.colab.kernel.accessAllowed ? 'block' : 'none';\n",
              "\n",
              "        async function convertToInteractive(key) {\n",
              "          const element = document.querySelector('#df-d2405945-4e2b-4a1e-abe0-ed04f0835cfd');\n",
              "          const dataTable =\n",
              "            await google.colab.kernel.invokeFunction('convertToInteractive',\n",
              "                                                     [key], {});\n",
              "          if (!dataTable) return;\n",
              "\n",
              "          const docLinkHtml = 'Like what you see? Visit the ' +\n",
              "            '<a target=\"_blank\" href=https://colab.research.google.com/notebooks/data_table.ipynb>data table notebook</a>'\n",
              "            + ' to learn more about interactive tables.';\n",
              "          element.innerHTML = '';\n",
              "          dataTable['output_type'] = 'display_data';\n",
              "          await google.colab.output.renderOutput(dataTable, element);\n",
              "          const docLink = document.createElement('div');\n",
              "          docLink.innerHTML = docLinkHtml;\n",
              "          element.appendChild(docLink);\n",
              "        }\n",
              "      </script>\n",
              "    </div>\n",
              "  </div>\n",
              "  "
            ],
            "text/plain": [
              "      artist_popularity  followers genres                      id name  \\\n",
              "3836                 50       1142     []  4oPYazJJ1o4rWBrTw9lm40  NaN   \n",
              "\n",
              "                    track_id track_name_prev    type  \n",
              "3836  5OJZjoVoyNbzD24C7tkycW         track_7  artist  "
            ]
          },
          "metadata": {},
          "execution_count": 15
        }
      ]
    },
    {
      "cell_type": "code",
      "source": [
        "# Only one row has null value, looks like missing artist name. Decide to drop this row.\n",
        "df = df.drop(3836)"
      ],
      "metadata": {
        "id": "B0FfKAXYNJkB"
      },
      "execution_count": 16,
      "outputs": []
    },
    {
      "cell_type": "code",
      "source": [
        "# After dropping that one row, check null values for the entire df again:\n",
        "df.isnull().values.any()"
      ],
      "metadata": {
        "colab": {
          "base_uri": "https://localhost:8080/"
        },
        "id": "Ugm2nsJUNJe1",
        "outputId": "9ef91e89-5b6b-44c7-ef29-c8207d039b88"
      },
      "execution_count": 17,
      "outputs": [
        {
          "output_type": "execute_result",
          "data": {
            "text/plain": [
              "False"
            ]
          },
          "metadata": {},
          "execution_count": 17
        }
      ]
    },
    {
      "cell_type": "code",
      "source": [
        "# Stats for the whole table:\n",
        "df.info()"
      ],
      "metadata": {
        "colab": {
          "base_uri": "https://localhost:8080/"
        },
        "id": "zmReeFBHWx5t",
        "outputId": "95a456c7-3ec3-4620-aa1b-48110a4c95f4"
      },
      "execution_count": 18,
      "outputs": [
        {
          "output_type": "stream",
          "name": "stdout",
          "text": [
            "<class 'pandas.core.frame.DataFrame'>\n",
            "Int64Index: 56128 entries, 0 to 56128\n",
            "Data columns (total 8 columns):\n",
            " #   Column             Non-Null Count  Dtype \n",
            "---  ------             --------------  ----- \n",
            " 0   artist_popularity  56128 non-null  int64 \n",
            " 1   followers          56128 non-null  int64 \n",
            " 2   genres             56128 non-null  object\n",
            " 3   id                 56128 non-null  object\n",
            " 4   name               56128 non-null  object\n",
            " 5   track_id           56128 non-null  object\n",
            " 6   track_name_prev    56128 non-null  object\n",
            " 7   type               56128 non-null  object\n",
            "dtypes: int64(2), object(6)\n",
            "memory usage: 3.9+ MB\n"
          ]
        }
      ]
    },
    {
      "cell_type": "markdown",
      "source": [
        "After cleaning, artists.csv has: 56,128 rows, 8 columns."
      ],
      "metadata": {
        "id": "uCzC3LtPMh6t"
      }
    },
    {
      "cell_type": "code",
      "source": [
        "# Show first 2 rows of the dataset:\n",
        "df.head(2)"
      ],
      "metadata": {
        "colab": {
          "base_uri": "https://localhost:8080/",
          "height": 191
        },
        "id": "ma7WybfRVRQ6",
        "outputId": "8b373e59-a686-42a8-99b9-c94bc0666116"
      },
      "execution_count": 19,
      "outputs": [
        {
          "output_type": "execute_result",
          "data": {
            "text/html": [
              "\n",
              "  <div id=\"df-0c5e7378-5fb2-4ef1-b08c-a2d763167c0b\">\n",
              "    <div class=\"colab-df-container\">\n",
              "      <div>\n",
              "<style scoped>\n",
              "    .dataframe tbody tr th:only-of-type {\n",
              "        vertical-align: middle;\n",
              "    }\n",
              "\n",
              "    .dataframe tbody tr th {\n",
              "        vertical-align: top;\n",
              "    }\n",
              "\n",
              "    .dataframe thead th {\n",
              "        text-align: right;\n",
              "    }\n",
              "</style>\n",
              "<table border=\"1\" class=\"dataframe\">\n",
              "  <thead>\n",
              "    <tr style=\"text-align: right;\">\n",
              "      <th></th>\n",
              "      <th>artist_popularity</th>\n",
              "      <th>followers</th>\n",
              "      <th>genres</th>\n",
              "      <th>id</th>\n",
              "      <th>name</th>\n",
              "      <th>track_id</th>\n",
              "      <th>track_name_prev</th>\n",
              "      <th>type</th>\n",
              "    </tr>\n",
              "  </thead>\n",
              "  <tbody>\n",
              "    <tr>\n",
              "      <th>0</th>\n",
              "      <td>44</td>\n",
              "      <td>23230</td>\n",
              "      <td>['sertanejo', 'sertanejo pop', 'sertanejo trad...</td>\n",
              "      <td>4mGnpjhqgx4RUdsIJiURdo</td>\n",
              "      <td>Juliano Cezar</td>\n",
              "      <td>0wmDmAILuW9e2aRttkl4aC</td>\n",
              "      <td>track_9</td>\n",
              "      <td>artist</td>\n",
              "    </tr>\n",
              "    <tr>\n",
              "      <th>1</th>\n",
              "      <td>22</td>\n",
              "      <td>313</td>\n",
              "      <td>[]</td>\n",
              "      <td>1dLnVku4VQUOLswwDFvRc9</td>\n",
              "      <td>The Grenadines</td>\n",
              "      <td>4wqwj0gA8qPZKLl5WVqXml</td>\n",
              "      <td>track_30</td>\n",
              "      <td>artist</td>\n",
              "    </tr>\n",
              "  </tbody>\n",
              "</table>\n",
              "</div>\n",
              "      <button class=\"colab-df-convert\" onclick=\"convertToInteractive('df-0c5e7378-5fb2-4ef1-b08c-a2d763167c0b')\"\n",
              "              title=\"Convert this dataframe to an interactive table.\"\n",
              "              style=\"display:none;\">\n",
              "        \n",
              "  <svg xmlns=\"http://www.w3.org/2000/svg\" height=\"24px\"viewBox=\"0 0 24 24\"\n",
              "       width=\"24px\">\n",
              "    <path d=\"M0 0h24v24H0V0z\" fill=\"none\"/>\n",
              "    <path d=\"M18.56 5.44l.94 2.06.94-2.06 2.06-.94-2.06-.94-.94-2.06-.94 2.06-2.06.94zm-11 1L8.5 8.5l.94-2.06 2.06-.94-2.06-.94L8.5 2.5l-.94 2.06-2.06.94zm10 10l.94 2.06.94-2.06 2.06-.94-2.06-.94-.94-2.06-.94 2.06-2.06.94z\"/><path d=\"M17.41 7.96l-1.37-1.37c-.4-.4-.92-.59-1.43-.59-.52 0-1.04.2-1.43.59L10.3 9.45l-7.72 7.72c-.78.78-.78 2.05 0 2.83L4 21.41c.39.39.9.59 1.41.59.51 0 1.02-.2 1.41-.59l7.78-7.78 2.81-2.81c.8-.78.8-2.07 0-2.86zM5.41 20L4 18.59l7.72-7.72 1.47 1.35L5.41 20z\"/>\n",
              "  </svg>\n",
              "      </button>\n",
              "      \n",
              "  <style>\n",
              "    .colab-df-container {\n",
              "      display:flex;\n",
              "      flex-wrap:wrap;\n",
              "      gap: 12px;\n",
              "    }\n",
              "\n",
              "    .colab-df-convert {\n",
              "      background-color: #E8F0FE;\n",
              "      border: none;\n",
              "      border-radius: 50%;\n",
              "      cursor: pointer;\n",
              "      display: none;\n",
              "      fill: #1967D2;\n",
              "      height: 32px;\n",
              "      padding: 0 0 0 0;\n",
              "      width: 32px;\n",
              "    }\n",
              "\n",
              "    .colab-df-convert:hover {\n",
              "      background-color: #E2EBFA;\n",
              "      box-shadow: 0px 1px 2px rgba(60, 64, 67, 0.3), 0px 1px 3px 1px rgba(60, 64, 67, 0.15);\n",
              "      fill: #174EA6;\n",
              "    }\n",
              "\n",
              "    [theme=dark] .colab-df-convert {\n",
              "      background-color: #3B4455;\n",
              "      fill: #D2E3FC;\n",
              "    }\n",
              "\n",
              "    [theme=dark] .colab-df-convert:hover {\n",
              "      background-color: #434B5C;\n",
              "      box-shadow: 0px 1px 3px 1px rgba(0, 0, 0, 0.15);\n",
              "      filter: drop-shadow(0px 1px 2px rgba(0, 0, 0, 0.3));\n",
              "      fill: #FFFFFF;\n",
              "    }\n",
              "  </style>\n",
              "\n",
              "      <script>\n",
              "        const buttonEl =\n",
              "          document.querySelector('#df-0c5e7378-5fb2-4ef1-b08c-a2d763167c0b button.colab-df-convert');\n",
              "        buttonEl.style.display =\n",
              "          google.colab.kernel.accessAllowed ? 'block' : 'none';\n",
              "\n",
              "        async function convertToInteractive(key) {\n",
              "          const element = document.querySelector('#df-0c5e7378-5fb2-4ef1-b08c-a2d763167c0b');\n",
              "          const dataTable =\n",
              "            await google.colab.kernel.invokeFunction('convertToInteractive',\n",
              "                                                     [key], {});\n",
              "          if (!dataTable) return;\n",
              "\n",
              "          const docLinkHtml = 'Like what you see? Visit the ' +\n",
              "            '<a target=\"_blank\" href=https://colab.research.google.com/notebooks/data_table.ipynb>data table notebook</a>'\n",
              "            + ' to learn more about interactive tables.';\n",
              "          element.innerHTML = '';\n",
              "          dataTable['output_type'] = 'display_data';\n",
              "          await google.colab.output.renderOutput(dataTable, element);\n",
              "          const docLink = document.createElement('div');\n",
              "          docLink.innerHTML = docLinkHtml;\n",
              "          element.appendChild(docLink);\n",
              "        }\n",
              "      </script>\n",
              "    </div>\n",
              "  </div>\n",
              "  "
            ],
            "text/plain": [
              "   artist_popularity  followers  \\\n",
              "0                 44      23230   \n",
              "1                 22        313   \n",
              "\n",
              "                                              genres                      id  \\\n",
              "0  ['sertanejo', 'sertanejo pop', 'sertanejo trad...  4mGnpjhqgx4RUdsIJiURdo   \n",
              "1                                                 []  1dLnVku4VQUOLswwDFvRc9   \n",
              "\n",
              "             name                track_id track_name_prev    type  \n",
              "0   Juliano Cezar  0wmDmAILuW9e2aRttkl4aC         track_9  artist  \n",
              "1  The Grenadines  4wqwj0gA8qPZKLl5WVqXml        track_30  artist  "
            ]
          },
          "metadata": {},
          "execution_count": 19
        }
      ]
    },
    {
      "cell_type": "code",
      "source": [
        "id = df['id']\n",
        "\n",
        "for row in id[0:50]:\n",
        "    print(row)\n",
        "    print(type(row))"
      ],
      "metadata": {
        "id": "jPjz03YFCSwb"
      },
      "execution_count": null,
      "outputs": []
    },
    {
      "cell_type": "code",
      "source": [
        "track_id = df['track_id']\n",
        "\n",
        "for row in track_id[0:50]:\n",
        "    print(row)\n",
        "    print(type(row))"
      ],
      "metadata": {
        "id": "chdW2i1TCStz"
      },
      "execution_count": null,
      "outputs": []
    },
    {
      "cell_type": "code",
      "source": [
        "# Empty genres rows:\n",
        "empty_genre_df = df.loc[df['genres'] == '[]']\n",
        "empty_genre_df"
      ],
      "metadata": {
        "colab": {
          "base_uri": "https://localhost:8080/",
          "height": 423
        },
        "id": "BaUczfWkZ21C",
        "outputId": "c13b28de-f81b-4818-f625-664bfec2fd06"
      },
      "execution_count": null,
      "outputs": [
        {
          "output_type": "execute_result",
          "data": {
            "text/html": [
              "\n",
              "  <div id=\"df-96b387e8-eb19-4083-b167-03cd51a894fa\">\n",
              "    <div class=\"colab-df-container\">\n",
              "      <div>\n",
              "<style scoped>\n",
              "    .dataframe tbody tr th:only-of-type {\n",
              "        vertical-align: middle;\n",
              "    }\n",
              "\n",
              "    .dataframe tbody tr th {\n",
              "        vertical-align: top;\n",
              "    }\n",
              "\n",
              "    .dataframe thead th {\n",
              "        text-align: right;\n",
              "    }\n",
              "</style>\n",
              "<table border=\"1\" class=\"dataframe\">\n",
              "  <thead>\n",
              "    <tr style=\"text-align: right;\">\n",
              "      <th></th>\n",
              "      <th>artist_popularity</th>\n",
              "      <th>followers</th>\n",
              "      <th>genres</th>\n",
              "      <th>id</th>\n",
              "      <th>name</th>\n",
              "      <th>track_id</th>\n",
              "      <th>track_name_prev</th>\n",
              "      <th>type</th>\n",
              "    </tr>\n",
              "  </thead>\n",
              "  <tbody>\n",
              "    <tr>\n",
              "      <th>1</th>\n",
              "      <td>22</td>\n",
              "      <td>313</td>\n",
              "      <td>[]</td>\n",
              "      <td>1dLnVku4VQUOLswwDFvRc9</td>\n",
              "      <td>The Grenadines</td>\n",
              "      <td>4wqwj0gA8qPZKLl5WVqXml</td>\n",
              "      <td>track_30</td>\n",
              "      <td>artist</td>\n",
              "    </tr>\n",
              "    <tr>\n",
              "      <th>5</th>\n",
              "      <td>43</td>\n",
              "      <td>81</td>\n",
              "      <td>[]</td>\n",
              "      <td>38VBjthd0szbS6wpDMafrb</td>\n",
              "      <td>Filhos</td>\n",
              "      <td>453KeZU566kjNfs1IH4yHU</td>\n",
              "      <td>track_15</td>\n",
              "      <td>artist</td>\n",
              "    </tr>\n",
              "    <tr>\n",
              "      <th>6</th>\n",
              "      <td>34</td>\n",
              "      <td>8358</td>\n",
              "      <td>[]</td>\n",
              "      <td>36mHwYa65L0WZbAXY2iSGw</td>\n",
              "      <td>Eloq</td>\n",
              "      <td>6hC5Tl0S5aQCw646JuN91w</td>\n",
              "      <td>track_43</td>\n",
              "      <td>artist</td>\n",
              "    </tr>\n",
              "    <tr>\n",
              "      <th>7</th>\n",
              "      <td>7</td>\n",
              "      <td>158</td>\n",
              "      <td>[]</td>\n",
              "      <td>1jJyy00XfxjB4tMAv5OT0q</td>\n",
              "      <td>Fravær</td>\n",
              "      <td>5005eeCJ9KTFAAzh2NC9mr</td>\n",
              "      <td>track_48</td>\n",
              "      <td>artist</td>\n",
              "    </tr>\n",
              "    <tr>\n",
              "      <th>8</th>\n",
              "      <td>21</td>\n",
              "      <td>30</td>\n",
              "      <td>[]</td>\n",
              "      <td>10A8WbBJ0zW8MnvTsUL6os</td>\n",
              "      <td>Camille Pépin</td>\n",
              "      <td>56fBsCXwpBnxe4JkF66gyF</td>\n",
              "      <td>track_73</td>\n",
              "      <td>artist</td>\n",
              "    </tr>\n",
              "    <tr>\n",
              "      <th>...</th>\n",
              "      <td>...</td>\n",
              "      <td>...</td>\n",
              "      <td>...</td>\n",
              "      <td>...</td>\n",
              "      <td>...</td>\n",
              "      <td>...</td>\n",
              "      <td>...</td>\n",
              "      <td>...</td>\n",
              "    </tr>\n",
              "    <tr>\n",
              "      <th>56107</th>\n",
              "      <td>47</td>\n",
              "      <td>7</td>\n",
              "      <td>[]</td>\n",
              "      <td>03aCAywaPegfs9yvJ66eCp</td>\n",
              "      <td>Cecelya</td>\n",
              "      <td>22KKy6ftT0i4nyGNCbwc1B</td>\n",
              "      <td>track_45</td>\n",
              "      <td>artist</td>\n",
              "    </tr>\n",
              "    <tr>\n",
              "      <th>56110</th>\n",
              "      <td>41</td>\n",
              "      <td>669</td>\n",
              "      <td>[]</td>\n",
              "      <td>0mVpmPb8A2f3SZzLwsfY2N</td>\n",
              "      <td>Ellee Duke</td>\n",
              "      <td>0hqF0RVvpsnjfHllubqWzC</td>\n",
              "      <td>track_26</td>\n",
              "      <td>artist</td>\n",
              "    </tr>\n",
              "    <tr>\n",
              "      <th>56117</th>\n",
              "      <td>34</td>\n",
              "      <td>648</td>\n",
              "      <td>[]</td>\n",
              "      <td>7arwEayqcKWkzDmGEB7xov</td>\n",
              "      <td>Discrete</td>\n",
              "      <td>7F3EnOMTajVekIWENKgdI1</td>\n",
              "      <td>track_72</td>\n",
              "      <td>artist</td>\n",
              "    </tr>\n",
              "    <tr>\n",
              "      <th>56118</th>\n",
              "      <td>55</td>\n",
              "      <td>207</td>\n",
              "      <td>[]</td>\n",
              "      <td>7bSq8V5IGFa89VPDIvzehw</td>\n",
              "      <td>CIRE</td>\n",
              "      <td>164C9bSF4ryqWXI4XgxTE0</td>\n",
              "      <td>track_76</td>\n",
              "      <td>artist</td>\n",
              "    </tr>\n",
              "    <tr>\n",
              "      <th>56122</th>\n",
              "      <td>41</td>\n",
              "      <td>1282</td>\n",
              "      <td>[]</td>\n",
              "      <td>4hp1i0d15TWg1YN3lCUWgq</td>\n",
              "      <td>Supernova</td>\n",
              "      <td>6iYhB7uRQInL7N2OAvzjDZ</td>\n",
              "      <td>track_4</td>\n",
              "      <td>artist</td>\n",
              "    </tr>\n",
              "  </tbody>\n",
              "</table>\n",
              "<p>23539 rows × 8 columns</p>\n",
              "</div>\n",
              "      <button class=\"colab-df-convert\" onclick=\"convertToInteractive('df-96b387e8-eb19-4083-b167-03cd51a894fa')\"\n",
              "              title=\"Convert this dataframe to an interactive table.\"\n",
              "              style=\"display:none;\">\n",
              "        \n",
              "  <svg xmlns=\"http://www.w3.org/2000/svg\" height=\"24px\"viewBox=\"0 0 24 24\"\n",
              "       width=\"24px\">\n",
              "    <path d=\"M0 0h24v24H0V0z\" fill=\"none\"/>\n",
              "    <path d=\"M18.56 5.44l.94 2.06.94-2.06 2.06-.94-2.06-.94-.94-2.06-.94 2.06-2.06.94zm-11 1L8.5 8.5l.94-2.06 2.06-.94-2.06-.94L8.5 2.5l-.94 2.06-2.06.94zm10 10l.94 2.06.94-2.06 2.06-.94-2.06-.94-.94-2.06-.94 2.06-2.06.94z\"/><path d=\"M17.41 7.96l-1.37-1.37c-.4-.4-.92-.59-1.43-.59-.52 0-1.04.2-1.43.59L10.3 9.45l-7.72 7.72c-.78.78-.78 2.05 0 2.83L4 21.41c.39.39.9.59 1.41.59.51 0 1.02-.2 1.41-.59l7.78-7.78 2.81-2.81c.8-.78.8-2.07 0-2.86zM5.41 20L4 18.59l7.72-7.72 1.47 1.35L5.41 20z\"/>\n",
              "  </svg>\n",
              "      </button>\n",
              "      \n",
              "  <style>\n",
              "    .colab-df-container {\n",
              "      display:flex;\n",
              "      flex-wrap:wrap;\n",
              "      gap: 12px;\n",
              "    }\n",
              "\n",
              "    .colab-df-convert {\n",
              "      background-color: #E8F0FE;\n",
              "      border: none;\n",
              "      border-radius: 50%;\n",
              "      cursor: pointer;\n",
              "      display: none;\n",
              "      fill: #1967D2;\n",
              "      height: 32px;\n",
              "      padding: 0 0 0 0;\n",
              "      width: 32px;\n",
              "    }\n",
              "\n",
              "    .colab-df-convert:hover {\n",
              "      background-color: #E2EBFA;\n",
              "      box-shadow: 0px 1px 2px rgba(60, 64, 67, 0.3), 0px 1px 3px 1px rgba(60, 64, 67, 0.15);\n",
              "      fill: #174EA6;\n",
              "    }\n",
              "\n",
              "    [theme=dark] .colab-df-convert {\n",
              "      background-color: #3B4455;\n",
              "      fill: #D2E3FC;\n",
              "    }\n",
              "\n",
              "    [theme=dark] .colab-df-convert:hover {\n",
              "      background-color: #434B5C;\n",
              "      box-shadow: 0px 1px 3px 1px rgba(0, 0, 0, 0.15);\n",
              "      filter: drop-shadow(0px 1px 2px rgba(0, 0, 0, 0.3));\n",
              "      fill: #FFFFFF;\n",
              "    }\n",
              "  </style>\n",
              "\n",
              "      <script>\n",
              "        const buttonEl =\n",
              "          document.querySelector('#df-96b387e8-eb19-4083-b167-03cd51a894fa button.colab-df-convert');\n",
              "        buttonEl.style.display =\n",
              "          google.colab.kernel.accessAllowed ? 'block' : 'none';\n",
              "\n",
              "        async function convertToInteractive(key) {\n",
              "          const element = document.querySelector('#df-96b387e8-eb19-4083-b167-03cd51a894fa');\n",
              "          const dataTable =\n",
              "            await google.colab.kernel.invokeFunction('convertToInteractive',\n",
              "                                                     [key], {});\n",
              "          if (!dataTable) return;\n",
              "\n",
              "          const docLinkHtml = 'Like what you see? Visit the ' +\n",
              "            '<a target=\"_blank\" href=https://colab.research.google.com/notebooks/data_table.ipynb>data table notebook</a>'\n",
              "            + ' to learn more about interactive tables.';\n",
              "          element.innerHTML = '';\n",
              "          dataTable['output_type'] = 'display_data';\n",
              "          await google.colab.output.renderOutput(dataTable, element);\n",
              "          const docLink = document.createElement('div');\n",
              "          docLink.innerHTML = docLinkHtml;\n",
              "          element.appendChild(docLink);\n",
              "        }\n",
              "      </script>\n",
              "    </div>\n",
              "  </div>\n",
              "  "
            ],
            "text/plain": [
              "       artist_popularity  followers  ... track_name_prev    type\n",
              "1                     22        313  ...        track_30  artist\n",
              "5                     43         81  ...        track_15  artist\n",
              "6                     34       8358  ...        track_43  artist\n",
              "7                      7        158  ...        track_48  artist\n",
              "8                     21         30  ...        track_73  artist\n",
              "...                  ...        ...  ...             ...     ...\n",
              "56107                 47          7  ...        track_45  artist\n",
              "56110                 41        669  ...        track_26  artist\n",
              "56117                 34        648  ...        track_72  artist\n",
              "56118                 55        207  ...        track_76  artist\n",
              "56122                 41       1282  ...         track_4  artist\n",
              "\n",
              "[23539 rows x 8 columns]"
            ]
          },
          "metadata": {},
          "execution_count": 59
        }
      ]
    },
    {
      "cell_type": "markdown",
      "source": [
        "Individual Column Exploration:"
      ],
      "metadata": {
        "id": "zbem4jF-PFB1"
      }
    },
    {
      "cell_type": "code",
      "source": [
        "df['artist_popularity'].describe()"
      ],
      "metadata": {
        "colab": {
          "base_uri": "https://localhost:8080/"
        },
        "id": "Jr3nCCy4VhGb",
        "outputId": "b8733573-6b9e-4e7b-c1fc-dd93cab0d54d"
      },
      "execution_count": null,
      "outputs": [
        {
          "output_type": "execute_result",
          "data": {
            "text/plain": [
              "count    56128.000000\n",
              "mean        34.387169\n",
              "std         16.917310\n",
              "min          0.000000\n",
              "25%         22.000000\n",
              "50%         34.000000\n",
              "75%         46.000000\n",
              "max        100.000000\n",
              "Name: artist_popularity, dtype: float64"
            ]
          },
          "metadata": {},
          "execution_count": 60
        }
      ]
    },
    {
      "cell_type": "code",
      "source": [
        "df['followers'].describe()"
      ],
      "metadata": {
        "colab": {
          "base_uri": "https://localhost:8080/"
        },
        "id": "OnS54KjBVhD1",
        "outputId": "82e34ecc-5e06-4606-bbb8-5d08491f5eda"
      },
      "execution_count": null,
      "outputs": [
        {
          "output_type": "execute_result",
          "data": {
            "text/plain": [
              "count    5.612800e+04\n",
              "mean     7.796178e+04\n",
              "std      5.942325e+05\n",
              "min      0.000000e+00\n",
              "25%      1.820000e+02\n",
              "50%      1.734500e+03\n",
              "75%      1.520325e+04\n",
              "max      4.156169e+07\n",
              "Name: followers, dtype: float64"
            ]
          },
          "metadata": {},
          "execution_count": 61
        }
      ]
    },
    {
      "cell_type": "code",
      "source": [
        "# different 'genres' values:\n",
        "df['genres'].unique()"
      ],
      "metadata": {
        "colab": {
          "base_uri": "https://localhost:8080/"
        },
        "id": "-MOD5iQFqbec",
        "outputId": "fe2bbd17-ea16-4539-a798-d3b31d672d6b"
      },
      "execution_count": null,
      "outputs": [
        {
          "output_type": "execute_result",
          "data": {
            "text/plain": [
              "array([\"['sertanejo', 'sertanejo pop', 'sertanejo tradicional', 'sertanejo universitario']\",\n",
              "       '[]', \"['danish pop rock']\", ...,\n",
              "       \"['dance pop', 'hip pop', 'pop', 'post-teen pop', 'r&b']\",\n",
              "       \"['chilean rock', 'concepcion indie']\",\n",
              "       \"['aggro chileno', 'andean', 'chilean rock', 'latin rock', 'nueva cancion']\"],\n",
              "      dtype=object)"
            ]
          },
          "metadata": {},
          "execution_count": 62
        }
      ]
    },
    {
      "cell_type": "code",
      "source": [
        "df['genres'].describe()"
      ],
      "metadata": {
        "colab": {
          "base_uri": "https://localhost:8080/"
        },
        "id": "g6kSX4EeVRG_",
        "outputId": "86a7290d-3eb8-4065-a7f1-bc22f1c50370"
      },
      "execution_count": null,
      "outputs": [
        {
          "output_type": "execute_result",
          "data": {
            "text/plain": [
              "count     56128\n",
              "unique    13314\n",
              "top          []\n",
              "freq      23539\n",
              "Name: genres, dtype: object"
            ]
          },
          "metadata": {},
          "execution_count": 63
        }
      ]
    },
    {
      "cell_type": "markdown",
      "source": [
        "Export the cleaned file:"
      ],
      "metadata": {
        "id": "-4lHC2JJP_Gk"
      }
    },
    {
      "cell_type": "code",
      "source": [
        "# df.to_csv('clean_artists.csv') \n",
        "# files.download('clean_artists.csv')"
      ],
      "metadata": {
        "id": "niRLgJtxVDEB"
      },
      "execution_count": null,
      "outputs": []
    },
    {
      "cell_type": "markdown",
      "source": [
        "tracks.csv"
      ],
      "metadata": {
        "id": "bH97n9CGVidM"
      }
    },
    {
      "cell_type": "code",
      "source": [
        "df = pd.read_csv('/content/drive/MyDrive/Colab Notebooks/Data/spotify_tracks.csv')"
      ],
      "metadata": {
        "id": "1I_PDSwHNrcE"
      },
      "execution_count": 42,
      "outputs": []
    },
    {
      "cell_type": "code",
      "source": [
        "# Drop first column \n",
        "df = df.iloc[: , 1:]"
      ],
      "metadata": {
        "id": "2lhOYTjFOc7d"
      },
      "execution_count": 43,
      "outputs": []
    },
    {
      "cell_type": "code",
      "source": [
        "# check null value for entire df:\n",
        "df.isnull().values.any()"
      ],
      "metadata": {
        "colab": {
          "base_uri": "https://localhost:8080/"
        },
        "id": "Vc3zOycjOnRG",
        "outputId": "e593680b-5d25-4a65-b791-db897035f2ea"
      },
      "execution_count": 44,
      "outputs": [
        {
          "output_type": "execute_result",
          "data": {
            "text/plain": [
              "False"
            ]
          },
          "metadata": {},
          "execution_count": 44
        }
      ]
    },
    {
      "cell_type": "code",
      "source": [
        "df.head()"
      ],
      "metadata": {
        "colab": {
          "base_uri": "https://localhost:8080/",
          "height": 386
        },
        "id": "kDKIEHdQOZlf",
        "outputId": "bd8f5bd1-0b6f-47d7-f279-096ecea567a1"
      },
      "execution_count": 45,
      "outputs": [
        {
          "output_type": "execute_result",
          "data": {
            "text/html": [
              "\n",
              "  <div id=\"df-ec257731-c14d-4f59-bd46-c0f792645e83\">\n",
              "    <div class=\"colab-df-container\">\n",
              "      <div>\n",
              "<style scoped>\n",
              "    .dataframe tbody tr th:only-of-type {\n",
              "        vertical-align: middle;\n",
              "    }\n",
              "\n",
              "    .dataframe tbody tr th {\n",
              "        vertical-align: top;\n",
              "    }\n",
              "\n",
              "    .dataframe thead th {\n",
              "        text-align: right;\n",
              "    }\n",
              "</style>\n",
              "<table border=\"1\" class=\"dataframe\">\n",
              "  <thead>\n",
              "    <tr style=\"text-align: right;\">\n",
              "      <th></th>\n",
              "      <th>acousticness</th>\n",
              "      <th>album_id</th>\n",
              "      <th>analysis_url</th>\n",
              "      <th>artists_id</th>\n",
              "      <th>available_markets</th>\n",
              "      <th>country</th>\n",
              "      <th>danceability</th>\n",
              "      <th>disc_number</th>\n",
              "      <th>duration_ms</th>\n",
              "      <th>energy</th>\n",
              "      <th>...</th>\n",
              "      <th>preview_url</th>\n",
              "      <th>speechiness</th>\n",
              "      <th>tempo</th>\n",
              "      <th>time_signature</th>\n",
              "      <th>track_href</th>\n",
              "      <th>track_name_prev</th>\n",
              "      <th>track_number</th>\n",
              "      <th>uri</th>\n",
              "      <th>valence</th>\n",
              "      <th>type</th>\n",
              "    </tr>\n",
              "  </thead>\n",
              "  <tbody>\n",
              "    <tr>\n",
              "      <th>0</th>\n",
              "      <td>0.294</td>\n",
              "      <td>0D3QufeCudpQANOR7luqdr</td>\n",
              "      <td>https://api.spotify.com/v1/audio-analysis/5qlj...</td>\n",
              "      <td>['3mxJuHRn2ZWD5OofvJtDZY']</td>\n",
              "      <td>['AD', 'AE', 'AR', 'AT', 'AU', 'BE', 'BG', 'BH...</td>\n",
              "      <td>BE</td>\n",
              "      <td>0.698</td>\n",
              "      <td>1.0</td>\n",
              "      <td>235584.0</td>\n",
              "      <td>0.606</td>\n",
              "      <td>...</td>\n",
              "      <td>https://p.scdn.co/mp3-preview/1b05a902da3a251d...</td>\n",
              "      <td>0.0262</td>\n",
              "      <td>115.018</td>\n",
              "      <td>4.0</td>\n",
              "      <td>https://api.spotify.com/v1/tracks/5qljLQuKnNJf...</td>\n",
              "      <td>track_14</td>\n",
              "      <td>1.0</td>\n",
              "      <td>spotify:track:5qljLQuKnNJf4F4vfxQB0V</td>\n",
              "      <td>0.6220</td>\n",
              "      <td>track</td>\n",
              "    </tr>\n",
              "    <tr>\n",
              "      <th>1</th>\n",
              "      <td>0.863</td>\n",
              "      <td>1bcqsH5UyTBzmh9YizdsBE</td>\n",
              "      <td>https://api.spotify.com/v1/audio-analysis/3VAX...</td>\n",
              "      <td>['4xWMewm6CYMstu0sPgd9jJ']</td>\n",
              "      <td>['AD', 'AE', 'AR', 'AT', 'AU', 'BE', 'BG', 'BH...</td>\n",
              "      <td>BE</td>\n",
              "      <td>0.719</td>\n",
              "      <td>1.0</td>\n",
              "      <td>656960.0</td>\n",
              "      <td>0.308</td>\n",
              "      <td>...</td>\n",
              "      <td>https://p.scdn.co/mp3-preview/d8140736a6131cb5...</td>\n",
              "      <td>0.9220</td>\n",
              "      <td>115.075</td>\n",
              "      <td>3.0</td>\n",
              "      <td>https://api.spotify.com/v1/tracks/3VAX2MJdmdqA...</td>\n",
              "      <td>track_3</td>\n",
              "      <td>3.0</td>\n",
              "      <td>spotify:track:3VAX2MJdmdqARLSU5hPMpm</td>\n",
              "      <td>0.5890</td>\n",
              "      <td>track</td>\n",
              "    </tr>\n",
              "    <tr>\n",
              "      <th>2</th>\n",
              "      <td>0.750</td>\n",
              "      <td>4tKijjmxGClg4JOLAyo2qE</td>\n",
              "      <td>https://api.spotify.com/v1/audio-analysis/1L3Y...</td>\n",
              "      <td>['3hYaK5FF3YAglCj5HZgBnP']</td>\n",
              "      <td>['GB']</td>\n",
              "      <td>BE</td>\n",
              "      <td>0.466</td>\n",
              "      <td>1.0</td>\n",
              "      <td>492840.0</td>\n",
              "      <td>0.931</td>\n",
              "      <td>...</td>\n",
              "      <td>https://p.scdn.co/mp3-preview/c8af28fb15185b18...</td>\n",
              "      <td>0.9440</td>\n",
              "      <td>79.565</td>\n",
              "      <td>4.0</td>\n",
              "      <td>https://api.spotify.com/v1/tracks/1L3YAhsEMrGV...</td>\n",
              "      <td>track_4</td>\n",
              "      <td>4.0</td>\n",
              "      <td>spotify:track:1L3YAhsEMrGVvCgDXj2TYn</td>\n",
              "      <td>0.0850</td>\n",
              "      <td>track</td>\n",
              "    </tr>\n",
              "    <tr>\n",
              "      <th>3</th>\n",
              "      <td>0.763</td>\n",
              "      <td>6FeJF5r8roonnKraJxr4oB</td>\n",
              "      <td>https://api.spotify.com/v1/audio-analysis/6aCe...</td>\n",
              "      <td>['2KQsUB9DRBcJk17JWX1eXD']</td>\n",
              "      <td>['AD', 'AE', 'AR', 'AT', 'AU', 'BE', 'BG', 'BH...</td>\n",
              "      <td>BE</td>\n",
              "      <td>0.719</td>\n",
              "      <td>1.0</td>\n",
              "      <td>316578.0</td>\n",
              "      <td>0.126</td>\n",
              "      <td>...</td>\n",
              "      <td>https://p.scdn.co/mp3-preview/7629b8e9f31f6e9b...</td>\n",
              "      <td>0.9380</td>\n",
              "      <td>112.822</td>\n",
              "      <td>3.0</td>\n",
              "      <td>https://api.spotify.com/v1/tracks/6aCe9zzoZmCo...</td>\n",
              "      <td>track_9</td>\n",
              "      <td>1.0</td>\n",
              "      <td>spotify:track:6aCe9zzoZmCojX7bbgKKtf</td>\n",
              "      <td>0.5330</td>\n",
              "      <td>track</td>\n",
              "    </tr>\n",
              "    <tr>\n",
              "      <th>4</th>\n",
              "      <td>0.770</td>\n",
              "      <td>4tKijjmxGClg4JOLAyo2qE</td>\n",
              "      <td>https://api.spotify.com/v1/audio-analysis/1Vo8...</td>\n",
              "      <td>['3hYaK5FF3YAglCj5HZgBnP']</td>\n",
              "      <td>['GB']</td>\n",
              "      <td>BE</td>\n",
              "      <td>0.460</td>\n",
              "      <td>1.0</td>\n",
              "      <td>558880.0</td>\n",
              "      <td>0.942</td>\n",
              "      <td>...</td>\n",
              "      <td>https://p.scdn.co/mp3-preview/32be593c0eb82868...</td>\n",
              "      <td>0.9430</td>\n",
              "      <td>81.260</td>\n",
              "      <td>4.0</td>\n",
              "      <td>https://api.spotify.com/v1/tracks/1Vo802A38tPF...</td>\n",
              "      <td>track_2</td>\n",
              "      <td>2.0</td>\n",
              "      <td>spotify:track:1Vo802A38tPFHmje1h91um</td>\n",
              "      <td>0.0906</td>\n",
              "      <td>track</td>\n",
              "    </tr>\n",
              "  </tbody>\n",
              "</table>\n",
              "<p>5 rows × 31 columns</p>\n",
              "</div>\n",
              "      <button class=\"colab-df-convert\" onclick=\"convertToInteractive('df-ec257731-c14d-4f59-bd46-c0f792645e83')\"\n",
              "              title=\"Convert this dataframe to an interactive table.\"\n",
              "              style=\"display:none;\">\n",
              "        \n",
              "  <svg xmlns=\"http://www.w3.org/2000/svg\" height=\"24px\"viewBox=\"0 0 24 24\"\n",
              "       width=\"24px\">\n",
              "    <path d=\"M0 0h24v24H0V0z\" fill=\"none\"/>\n",
              "    <path d=\"M18.56 5.44l.94 2.06.94-2.06 2.06-.94-2.06-.94-.94-2.06-.94 2.06-2.06.94zm-11 1L8.5 8.5l.94-2.06 2.06-.94-2.06-.94L8.5 2.5l-.94 2.06-2.06.94zm10 10l.94 2.06.94-2.06 2.06-.94-2.06-.94-.94-2.06-.94 2.06-2.06.94z\"/><path d=\"M17.41 7.96l-1.37-1.37c-.4-.4-.92-.59-1.43-.59-.52 0-1.04.2-1.43.59L10.3 9.45l-7.72 7.72c-.78.78-.78 2.05 0 2.83L4 21.41c.39.39.9.59 1.41.59.51 0 1.02-.2 1.41-.59l7.78-7.78 2.81-2.81c.8-.78.8-2.07 0-2.86zM5.41 20L4 18.59l7.72-7.72 1.47 1.35L5.41 20z\"/>\n",
              "  </svg>\n",
              "      </button>\n",
              "      \n",
              "  <style>\n",
              "    .colab-df-container {\n",
              "      display:flex;\n",
              "      flex-wrap:wrap;\n",
              "      gap: 12px;\n",
              "    }\n",
              "\n",
              "    .colab-df-convert {\n",
              "      background-color: #E8F0FE;\n",
              "      border: none;\n",
              "      border-radius: 50%;\n",
              "      cursor: pointer;\n",
              "      display: none;\n",
              "      fill: #1967D2;\n",
              "      height: 32px;\n",
              "      padding: 0 0 0 0;\n",
              "      width: 32px;\n",
              "    }\n",
              "\n",
              "    .colab-df-convert:hover {\n",
              "      background-color: #E2EBFA;\n",
              "      box-shadow: 0px 1px 2px rgba(60, 64, 67, 0.3), 0px 1px 3px 1px rgba(60, 64, 67, 0.15);\n",
              "      fill: #174EA6;\n",
              "    }\n",
              "\n",
              "    [theme=dark] .colab-df-convert {\n",
              "      background-color: #3B4455;\n",
              "      fill: #D2E3FC;\n",
              "    }\n",
              "\n",
              "    [theme=dark] .colab-df-convert:hover {\n",
              "      background-color: #434B5C;\n",
              "      box-shadow: 0px 1px 3px 1px rgba(0, 0, 0, 0.15);\n",
              "      filter: drop-shadow(0px 1px 2px rgba(0, 0, 0, 0.3));\n",
              "      fill: #FFFFFF;\n",
              "    }\n",
              "  </style>\n",
              "\n",
              "      <script>\n",
              "        const buttonEl =\n",
              "          document.querySelector('#df-ec257731-c14d-4f59-bd46-c0f792645e83 button.colab-df-convert');\n",
              "        buttonEl.style.display =\n",
              "          google.colab.kernel.accessAllowed ? 'block' : 'none';\n",
              "\n",
              "        async function convertToInteractive(key) {\n",
              "          const element = document.querySelector('#df-ec257731-c14d-4f59-bd46-c0f792645e83');\n",
              "          const dataTable =\n",
              "            await google.colab.kernel.invokeFunction('convertToInteractive',\n",
              "                                                     [key], {});\n",
              "          if (!dataTable) return;\n",
              "\n",
              "          const docLinkHtml = 'Like what you see? Visit the ' +\n",
              "            '<a target=\"_blank\" href=https://colab.research.google.com/notebooks/data_table.ipynb>data table notebook</a>'\n",
              "            + ' to learn more about interactive tables.';\n",
              "          element.innerHTML = '';\n",
              "          dataTable['output_type'] = 'display_data';\n",
              "          await google.colab.output.renderOutput(dataTable, element);\n",
              "          const docLink = document.createElement('div');\n",
              "          docLink.innerHTML = docLinkHtml;\n",
              "          element.appendChild(docLink);\n",
              "        }\n",
              "      </script>\n",
              "    </div>\n",
              "  </div>\n",
              "  "
            ],
            "text/plain": [
              "   acousticness                album_id  \\\n",
              "0         0.294  0D3QufeCudpQANOR7luqdr   \n",
              "1         0.863  1bcqsH5UyTBzmh9YizdsBE   \n",
              "2         0.750  4tKijjmxGClg4JOLAyo2qE   \n",
              "3         0.763  6FeJF5r8roonnKraJxr4oB   \n",
              "4         0.770  4tKijjmxGClg4JOLAyo2qE   \n",
              "\n",
              "                                        analysis_url  \\\n",
              "0  https://api.spotify.com/v1/audio-analysis/5qlj...   \n",
              "1  https://api.spotify.com/v1/audio-analysis/3VAX...   \n",
              "2  https://api.spotify.com/v1/audio-analysis/1L3Y...   \n",
              "3  https://api.spotify.com/v1/audio-analysis/6aCe...   \n",
              "4  https://api.spotify.com/v1/audio-analysis/1Vo8...   \n",
              "\n",
              "                   artists_id  \\\n",
              "0  ['3mxJuHRn2ZWD5OofvJtDZY']   \n",
              "1  ['4xWMewm6CYMstu0sPgd9jJ']   \n",
              "2  ['3hYaK5FF3YAglCj5HZgBnP']   \n",
              "3  ['2KQsUB9DRBcJk17JWX1eXD']   \n",
              "4  ['3hYaK5FF3YAglCj5HZgBnP']   \n",
              "\n",
              "                                   available_markets country  danceability  \\\n",
              "0  ['AD', 'AE', 'AR', 'AT', 'AU', 'BE', 'BG', 'BH...      BE         0.698   \n",
              "1  ['AD', 'AE', 'AR', 'AT', 'AU', 'BE', 'BG', 'BH...      BE         0.719   \n",
              "2                                             ['GB']      BE         0.466   \n",
              "3  ['AD', 'AE', 'AR', 'AT', 'AU', 'BE', 'BG', 'BH...      BE         0.719   \n",
              "4                                             ['GB']      BE         0.460   \n",
              "\n",
              "   disc_number  duration_ms  energy  ...  \\\n",
              "0          1.0     235584.0   0.606  ...   \n",
              "1          1.0     656960.0   0.308  ...   \n",
              "2          1.0     492840.0   0.931  ...   \n",
              "3          1.0     316578.0   0.126  ...   \n",
              "4          1.0     558880.0   0.942  ...   \n",
              "\n",
              "                                         preview_url speechiness    tempo  \\\n",
              "0  https://p.scdn.co/mp3-preview/1b05a902da3a251d...      0.0262  115.018   \n",
              "1  https://p.scdn.co/mp3-preview/d8140736a6131cb5...      0.9220  115.075   \n",
              "2  https://p.scdn.co/mp3-preview/c8af28fb15185b18...      0.9440   79.565   \n",
              "3  https://p.scdn.co/mp3-preview/7629b8e9f31f6e9b...      0.9380  112.822   \n",
              "4  https://p.scdn.co/mp3-preview/32be593c0eb82868...      0.9430   81.260   \n",
              "\n",
              "   time_signature                                         track_href  \\\n",
              "0             4.0  https://api.spotify.com/v1/tracks/5qljLQuKnNJf...   \n",
              "1             3.0  https://api.spotify.com/v1/tracks/3VAX2MJdmdqA...   \n",
              "2             4.0  https://api.spotify.com/v1/tracks/1L3YAhsEMrGV...   \n",
              "3             3.0  https://api.spotify.com/v1/tracks/6aCe9zzoZmCo...   \n",
              "4             4.0  https://api.spotify.com/v1/tracks/1Vo802A38tPF...   \n",
              "\n",
              "   track_name_prev track_number                                   uri valence  \\\n",
              "0         track_14          1.0  spotify:track:5qljLQuKnNJf4F4vfxQB0V  0.6220   \n",
              "1          track_3          3.0  spotify:track:3VAX2MJdmdqARLSU5hPMpm  0.5890   \n",
              "2          track_4          4.0  spotify:track:1L3YAhsEMrGVvCgDXj2TYn  0.0850   \n",
              "3          track_9          1.0  spotify:track:6aCe9zzoZmCojX7bbgKKtf  0.5330   \n",
              "4          track_2          2.0  spotify:track:1Vo802A38tPFHmje1h91um  0.0906   \n",
              "\n",
              "    type  \n",
              "0  track  \n",
              "1  track  \n",
              "2  track  \n",
              "3  track  \n",
              "4  track  \n",
              "\n",
              "[5 rows x 31 columns]"
            ]
          },
          "metadata": {},
          "execution_count": 45
        }
      ]
    },
    {
      "cell_type": "code",
      "source": [
        "df.columns"
      ],
      "metadata": {
        "colab": {
          "base_uri": "https://localhost:8080/"
        },
        "id": "Fvrg12sMY8Fm",
        "outputId": "157c32f7-5814-469e-d1bb-32f0dbfa7a5a"
      },
      "execution_count": 46,
      "outputs": [
        {
          "output_type": "execute_result",
          "data": {
            "text/plain": [
              "Index(['acousticness', 'album_id', 'analysis_url', 'artists_id',\n",
              "       'available_markets', 'country', 'danceability', 'disc_number',\n",
              "       'duration_ms', 'energy', 'href', 'id', 'instrumentalness', 'key',\n",
              "       'liveness', 'loudness', 'lyrics', 'mode', 'name', 'playlist',\n",
              "       'popularity', 'preview_url', 'speechiness', 'tempo', 'time_signature',\n",
              "       'track_href', 'track_name_prev', 'track_number', 'uri', 'valence',\n",
              "       'type'],\n",
              "      dtype='object')"
            ]
          },
          "metadata": {},
          "execution_count": 46
        }
      ]
    },
    {
      "cell_type": "code",
      "source": [
        "album_id = df['album_id']\n",
        "\n",
        "for row in album_id[10:50]:\n",
        "    print(row)\n",
        "    print(type(row))"
      ],
      "metadata": {
        "id": "oulUJINDYnbg"
      },
      "execution_count": null,
      "outputs": []
    },
    {
      "cell_type": "code",
      "source": [
        "artists_id = df['artists_id']\n",
        "\n",
        "for row in artists_id[10:50]:\n",
        "    print(row)\n",
        "    print(type(row))"
      ],
      "metadata": {
        "id": "W21dkXOzGkEz"
      },
      "execution_count": null,
      "outputs": []
    },
    {
      "cell_type": "code",
      "source": [
        "lyrics = df['lyrics']\n",
        "\n",
        "for row in lyrics[10:20]:\n",
        "    print(row)\n",
        "    print(type(row))"
      ],
      "metadata": {
        "id": "xExcH-QUaNlN"
      },
      "execution_count": null,
      "outputs": []
    },
    {
      "cell_type": "code",
      "source": [
        "id = df['id']\n",
        "\n",
        "for row in id[10:50]:\n",
        "    print(row)\n",
        "    print(type(row))"
      ],
      "metadata": {
        "id": "NVwJ1OHqakFk"
      },
      "execution_count": null,
      "outputs": []
    },
    {
      "cell_type": "code",
      "source": [
        "# drop column: artists_id\n",
        "df.drop(['artists_id'], axis=1, inplace=True)"
      ],
      "metadata": {
        "id": "yfUQbZtQZ-kh"
      },
      "execution_count": 47,
      "outputs": []
    },
    {
      "cell_type": "code",
      "source": [
        "df.head()"
      ],
      "metadata": {
        "colab": {
          "base_uri": "https://localhost:8080/",
          "height": 386
        },
        "id": "2WdHGkHXZ-YB",
        "outputId": "8f05cc27-6228-4a78-ae0e-ae525d9bdebe"
      },
      "execution_count": 48,
      "outputs": [
        {
          "output_type": "execute_result",
          "data": {
            "text/html": [
              "\n",
              "  <div id=\"df-5e428590-20b9-4dcb-9022-8b518b55be69\">\n",
              "    <div class=\"colab-df-container\">\n",
              "      <div>\n",
              "<style scoped>\n",
              "    .dataframe tbody tr th:only-of-type {\n",
              "        vertical-align: middle;\n",
              "    }\n",
              "\n",
              "    .dataframe tbody tr th {\n",
              "        vertical-align: top;\n",
              "    }\n",
              "\n",
              "    .dataframe thead th {\n",
              "        text-align: right;\n",
              "    }\n",
              "</style>\n",
              "<table border=\"1\" class=\"dataframe\">\n",
              "  <thead>\n",
              "    <tr style=\"text-align: right;\">\n",
              "      <th></th>\n",
              "      <th>acousticness</th>\n",
              "      <th>album_id</th>\n",
              "      <th>analysis_url</th>\n",
              "      <th>available_markets</th>\n",
              "      <th>country</th>\n",
              "      <th>danceability</th>\n",
              "      <th>disc_number</th>\n",
              "      <th>duration_ms</th>\n",
              "      <th>energy</th>\n",
              "      <th>href</th>\n",
              "      <th>...</th>\n",
              "      <th>preview_url</th>\n",
              "      <th>speechiness</th>\n",
              "      <th>tempo</th>\n",
              "      <th>time_signature</th>\n",
              "      <th>track_href</th>\n",
              "      <th>track_name_prev</th>\n",
              "      <th>track_number</th>\n",
              "      <th>uri</th>\n",
              "      <th>valence</th>\n",
              "      <th>type</th>\n",
              "    </tr>\n",
              "  </thead>\n",
              "  <tbody>\n",
              "    <tr>\n",
              "      <th>0</th>\n",
              "      <td>0.294</td>\n",
              "      <td>0D3QufeCudpQANOR7luqdr</td>\n",
              "      <td>https://api.spotify.com/v1/audio-analysis/5qlj...</td>\n",
              "      <td>['AD', 'AE', 'AR', 'AT', 'AU', 'BE', 'BG', 'BH...</td>\n",
              "      <td>BE</td>\n",
              "      <td>0.698</td>\n",
              "      <td>1.0</td>\n",
              "      <td>235584.0</td>\n",
              "      <td>0.606</td>\n",
              "      <td>https://api.spotify.com/v1/tracks/5qljLQuKnNJf...</td>\n",
              "      <td>...</td>\n",
              "      <td>https://p.scdn.co/mp3-preview/1b05a902da3a251d...</td>\n",
              "      <td>0.0262</td>\n",
              "      <td>115.018</td>\n",
              "      <td>4.0</td>\n",
              "      <td>https://api.spotify.com/v1/tracks/5qljLQuKnNJf...</td>\n",
              "      <td>track_14</td>\n",
              "      <td>1.0</td>\n",
              "      <td>spotify:track:5qljLQuKnNJf4F4vfxQB0V</td>\n",
              "      <td>0.6220</td>\n",
              "      <td>track</td>\n",
              "    </tr>\n",
              "    <tr>\n",
              "      <th>1</th>\n",
              "      <td>0.863</td>\n",
              "      <td>1bcqsH5UyTBzmh9YizdsBE</td>\n",
              "      <td>https://api.spotify.com/v1/audio-analysis/3VAX...</td>\n",
              "      <td>['AD', 'AE', 'AR', 'AT', 'AU', 'BE', 'BG', 'BH...</td>\n",
              "      <td>BE</td>\n",
              "      <td>0.719</td>\n",
              "      <td>1.0</td>\n",
              "      <td>656960.0</td>\n",
              "      <td>0.308</td>\n",
              "      <td>https://api.spotify.com/v1/tracks/3VAX2MJdmdqA...</td>\n",
              "      <td>...</td>\n",
              "      <td>https://p.scdn.co/mp3-preview/d8140736a6131cb5...</td>\n",
              "      <td>0.9220</td>\n",
              "      <td>115.075</td>\n",
              "      <td>3.0</td>\n",
              "      <td>https://api.spotify.com/v1/tracks/3VAX2MJdmdqA...</td>\n",
              "      <td>track_3</td>\n",
              "      <td>3.0</td>\n",
              "      <td>spotify:track:3VAX2MJdmdqARLSU5hPMpm</td>\n",
              "      <td>0.5890</td>\n",
              "      <td>track</td>\n",
              "    </tr>\n",
              "    <tr>\n",
              "      <th>2</th>\n",
              "      <td>0.750</td>\n",
              "      <td>4tKijjmxGClg4JOLAyo2qE</td>\n",
              "      <td>https://api.spotify.com/v1/audio-analysis/1L3Y...</td>\n",
              "      <td>['GB']</td>\n",
              "      <td>BE</td>\n",
              "      <td>0.466</td>\n",
              "      <td>1.0</td>\n",
              "      <td>492840.0</td>\n",
              "      <td>0.931</td>\n",
              "      <td>https://api.spotify.com/v1/tracks/1L3YAhsEMrGV...</td>\n",
              "      <td>...</td>\n",
              "      <td>https://p.scdn.co/mp3-preview/c8af28fb15185b18...</td>\n",
              "      <td>0.9440</td>\n",
              "      <td>79.565</td>\n",
              "      <td>4.0</td>\n",
              "      <td>https://api.spotify.com/v1/tracks/1L3YAhsEMrGV...</td>\n",
              "      <td>track_4</td>\n",
              "      <td>4.0</td>\n",
              "      <td>spotify:track:1L3YAhsEMrGVvCgDXj2TYn</td>\n",
              "      <td>0.0850</td>\n",
              "      <td>track</td>\n",
              "    </tr>\n",
              "    <tr>\n",
              "      <th>3</th>\n",
              "      <td>0.763</td>\n",
              "      <td>6FeJF5r8roonnKraJxr4oB</td>\n",
              "      <td>https://api.spotify.com/v1/audio-analysis/6aCe...</td>\n",
              "      <td>['AD', 'AE', 'AR', 'AT', 'AU', 'BE', 'BG', 'BH...</td>\n",
              "      <td>BE</td>\n",
              "      <td>0.719</td>\n",
              "      <td>1.0</td>\n",
              "      <td>316578.0</td>\n",
              "      <td>0.126</td>\n",
              "      <td>https://api.spotify.com/v1/tracks/6aCe9zzoZmCo...</td>\n",
              "      <td>...</td>\n",
              "      <td>https://p.scdn.co/mp3-preview/7629b8e9f31f6e9b...</td>\n",
              "      <td>0.9380</td>\n",
              "      <td>112.822</td>\n",
              "      <td>3.0</td>\n",
              "      <td>https://api.spotify.com/v1/tracks/6aCe9zzoZmCo...</td>\n",
              "      <td>track_9</td>\n",
              "      <td>1.0</td>\n",
              "      <td>spotify:track:6aCe9zzoZmCojX7bbgKKtf</td>\n",
              "      <td>0.5330</td>\n",
              "      <td>track</td>\n",
              "    </tr>\n",
              "    <tr>\n",
              "      <th>4</th>\n",
              "      <td>0.770</td>\n",
              "      <td>4tKijjmxGClg4JOLAyo2qE</td>\n",
              "      <td>https://api.spotify.com/v1/audio-analysis/1Vo8...</td>\n",
              "      <td>['GB']</td>\n",
              "      <td>BE</td>\n",
              "      <td>0.460</td>\n",
              "      <td>1.0</td>\n",
              "      <td>558880.0</td>\n",
              "      <td>0.942</td>\n",
              "      <td>https://api.spotify.com/v1/tracks/1Vo802A38tPF...</td>\n",
              "      <td>...</td>\n",
              "      <td>https://p.scdn.co/mp3-preview/32be593c0eb82868...</td>\n",
              "      <td>0.9430</td>\n",
              "      <td>81.260</td>\n",
              "      <td>4.0</td>\n",
              "      <td>https://api.spotify.com/v1/tracks/1Vo802A38tPF...</td>\n",
              "      <td>track_2</td>\n",
              "      <td>2.0</td>\n",
              "      <td>spotify:track:1Vo802A38tPFHmje1h91um</td>\n",
              "      <td>0.0906</td>\n",
              "      <td>track</td>\n",
              "    </tr>\n",
              "  </tbody>\n",
              "</table>\n",
              "<p>5 rows × 30 columns</p>\n",
              "</div>\n",
              "      <button class=\"colab-df-convert\" onclick=\"convertToInteractive('df-5e428590-20b9-4dcb-9022-8b518b55be69')\"\n",
              "              title=\"Convert this dataframe to an interactive table.\"\n",
              "              style=\"display:none;\">\n",
              "        \n",
              "  <svg xmlns=\"http://www.w3.org/2000/svg\" height=\"24px\"viewBox=\"0 0 24 24\"\n",
              "       width=\"24px\">\n",
              "    <path d=\"M0 0h24v24H0V0z\" fill=\"none\"/>\n",
              "    <path d=\"M18.56 5.44l.94 2.06.94-2.06 2.06-.94-2.06-.94-.94-2.06-.94 2.06-2.06.94zm-11 1L8.5 8.5l.94-2.06 2.06-.94-2.06-.94L8.5 2.5l-.94 2.06-2.06.94zm10 10l.94 2.06.94-2.06 2.06-.94-2.06-.94-.94-2.06-.94 2.06-2.06.94z\"/><path d=\"M17.41 7.96l-1.37-1.37c-.4-.4-.92-.59-1.43-.59-.52 0-1.04.2-1.43.59L10.3 9.45l-7.72 7.72c-.78.78-.78 2.05 0 2.83L4 21.41c.39.39.9.59 1.41.59.51 0 1.02-.2 1.41-.59l7.78-7.78 2.81-2.81c.8-.78.8-2.07 0-2.86zM5.41 20L4 18.59l7.72-7.72 1.47 1.35L5.41 20z\"/>\n",
              "  </svg>\n",
              "      </button>\n",
              "      \n",
              "  <style>\n",
              "    .colab-df-container {\n",
              "      display:flex;\n",
              "      flex-wrap:wrap;\n",
              "      gap: 12px;\n",
              "    }\n",
              "\n",
              "    .colab-df-convert {\n",
              "      background-color: #E8F0FE;\n",
              "      border: none;\n",
              "      border-radius: 50%;\n",
              "      cursor: pointer;\n",
              "      display: none;\n",
              "      fill: #1967D2;\n",
              "      height: 32px;\n",
              "      padding: 0 0 0 0;\n",
              "      width: 32px;\n",
              "    }\n",
              "\n",
              "    .colab-df-convert:hover {\n",
              "      background-color: #E2EBFA;\n",
              "      box-shadow: 0px 1px 2px rgba(60, 64, 67, 0.3), 0px 1px 3px 1px rgba(60, 64, 67, 0.15);\n",
              "      fill: #174EA6;\n",
              "    }\n",
              "\n",
              "    [theme=dark] .colab-df-convert {\n",
              "      background-color: #3B4455;\n",
              "      fill: #D2E3FC;\n",
              "    }\n",
              "\n",
              "    [theme=dark] .colab-df-convert:hover {\n",
              "      background-color: #434B5C;\n",
              "      box-shadow: 0px 1px 3px 1px rgba(0, 0, 0, 0.15);\n",
              "      filter: drop-shadow(0px 1px 2px rgba(0, 0, 0, 0.3));\n",
              "      fill: #FFFFFF;\n",
              "    }\n",
              "  </style>\n",
              "\n",
              "      <script>\n",
              "        const buttonEl =\n",
              "          document.querySelector('#df-5e428590-20b9-4dcb-9022-8b518b55be69 button.colab-df-convert');\n",
              "        buttonEl.style.display =\n",
              "          google.colab.kernel.accessAllowed ? 'block' : 'none';\n",
              "\n",
              "        async function convertToInteractive(key) {\n",
              "          const element = document.querySelector('#df-5e428590-20b9-4dcb-9022-8b518b55be69');\n",
              "          const dataTable =\n",
              "            await google.colab.kernel.invokeFunction('convertToInteractive',\n",
              "                                                     [key], {});\n",
              "          if (!dataTable) return;\n",
              "\n",
              "          const docLinkHtml = 'Like what you see? Visit the ' +\n",
              "            '<a target=\"_blank\" href=https://colab.research.google.com/notebooks/data_table.ipynb>data table notebook</a>'\n",
              "            + ' to learn more about interactive tables.';\n",
              "          element.innerHTML = '';\n",
              "          dataTable['output_type'] = 'display_data';\n",
              "          await google.colab.output.renderOutput(dataTable, element);\n",
              "          const docLink = document.createElement('div');\n",
              "          docLink.innerHTML = docLinkHtml;\n",
              "          element.appendChild(docLink);\n",
              "        }\n",
              "      </script>\n",
              "    </div>\n",
              "  </div>\n",
              "  "
            ],
            "text/plain": [
              "   acousticness                album_id  \\\n",
              "0         0.294  0D3QufeCudpQANOR7luqdr   \n",
              "1         0.863  1bcqsH5UyTBzmh9YizdsBE   \n",
              "2         0.750  4tKijjmxGClg4JOLAyo2qE   \n",
              "3         0.763  6FeJF5r8roonnKraJxr4oB   \n",
              "4         0.770  4tKijjmxGClg4JOLAyo2qE   \n",
              "\n",
              "                                        analysis_url  \\\n",
              "0  https://api.spotify.com/v1/audio-analysis/5qlj...   \n",
              "1  https://api.spotify.com/v1/audio-analysis/3VAX...   \n",
              "2  https://api.spotify.com/v1/audio-analysis/1L3Y...   \n",
              "3  https://api.spotify.com/v1/audio-analysis/6aCe...   \n",
              "4  https://api.spotify.com/v1/audio-analysis/1Vo8...   \n",
              "\n",
              "                                   available_markets country  danceability  \\\n",
              "0  ['AD', 'AE', 'AR', 'AT', 'AU', 'BE', 'BG', 'BH...      BE         0.698   \n",
              "1  ['AD', 'AE', 'AR', 'AT', 'AU', 'BE', 'BG', 'BH...      BE         0.719   \n",
              "2                                             ['GB']      BE         0.466   \n",
              "3  ['AD', 'AE', 'AR', 'AT', 'AU', 'BE', 'BG', 'BH...      BE         0.719   \n",
              "4                                             ['GB']      BE         0.460   \n",
              "\n",
              "   disc_number  duration_ms  energy  \\\n",
              "0          1.0     235584.0   0.606   \n",
              "1          1.0     656960.0   0.308   \n",
              "2          1.0     492840.0   0.931   \n",
              "3          1.0     316578.0   0.126   \n",
              "4          1.0     558880.0   0.942   \n",
              "\n",
              "                                                href  ...  \\\n",
              "0  https://api.spotify.com/v1/tracks/5qljLQuKnNJf...  ...   \n",
              "1  https://api.spotify.com/v1/tracks/3VAX2MJdmdqA...  ...   \n",
              "2  https://api.spotify.com/v1/tracks/1L3YAhsEMrGV...  ...   \n",
              "3  https://api.spotify.com/v1/tracks/6aCe9zzoZmCo...  ...   \n",
              "4  https://api.spotify.com/v1/tracks/1Vo802A38tPF...  ...   \n",
              "\n",
              "                                         preview_url  speechiness    tempo  \\\n",
              "0  https://p.scdn.co/mp3-preview/1b05a902da3a251d...       0.0262  115.018   \n",
              "1  https://p.scdn.co/mp3-preview/d8140736a6131cb5...       0.9220  115.075   \n",
              "2  https://p.scdn.co/mp3-preview/c8af28fb15185b18...       0.9440   79.565   \n",
              "3  https://p.scdn.co/mp3-preview/7629b8e9f31f6e9b...       0.9380  112.822   \n",
              "4  https://p.scdn.co/mp3-preview/32be593c0eb82868...       0.9430   81.260   \n",
              "\n",
              "   time_signature                                         track_href  \\\n",
              "0             4.0  https://api.spotify.com/v1/tracks/5qljLQuKnNJf...   \n",
              "1             3.0  https://api.spotify.com/v1/tracks/3VAX2MJdmdqA...   \n",
              "2             4.0  https://api.spotify.com/v1/tracks/1L3YAhsEMrGV...   \n",
              "3             3.0  https://api.spotify.com/v1/tracks/6aCe9zzoZmCo...   \n",
              "4             4.0  https://api.spotify.com/v1/tracks/1Vo802A38tPF...   \n",
              "\n",
              "  track_name_prev  track_number                                   uri valence  \\\n",
              "0        track_14           1.0  spotify:track:5qljLQuKnNJf4F4vfxQB0V  0.6220   \n",
              "1         track_3           3.0  spotify:track:3VAX2MJdmdqARLSU5hPMpm  0.5890   \n",
              "2         track_4           4.0  spotify:track:1L3YAhsEMrGVvCgDXj2TYn  0.0850   \n",
              "3         track_9           1.0  spotify:track:6aCe9zzoZmCojX7bbgKKtf  0.5330   \n",
              "4         track_2           2.0  spotify:track:1Vo802A38tPFHmje1h91um  0.0906   \n",
              "\n",
              "    type  \n",
              "0  track  \n",
              "1  track  \n",
              "2  track  \n",
              "3  track  \n",
              "4  track  \n",
              "\n",
              "[5 rows x 30 columns]"
            ]
          },
          "metadata": {},
          "execution_count": 48
        }
      ]
    },
    {
      "cell_type": "code",
      "source": [
        "df.dtypes"
      ],
      "metadata": {
        "colab": {
          "base_uri": "https://localhost:8080/"
        },
        "id": "wJ85Q9Is7s3W",
        "outputId": "6db00275-ea80-42b1-ffaf-e70b622d04c4"
      },
      "execution_count": 49,
      "outputs": [
        {
          "output_type": "execute_result",
          "data": {
            "text/plain": [
              "acousticness         float64\n",
              "album_id              object\n",
              "analysis_url          object\n",
              "available_markets     object\n",
              "country               object\n",
              "danceability         float64\n",
              "disc_number          float64\n",
              "duration_ms          float64\n",
              "energy               float64\n",
              "href                  object\n",
              "id                    object\n",
              "instrumentalness     float64\n",
              "key                  float64\n",
              "liveness             float64\n",
              "loudness             float64\n",
              "lyrics                object\n",
              "mode                 float64\n",
              "name                  object\n",
              "playlist              object\n",
              "popularity           float64\n",
              "preview_url           object\n",
              "speechiness          float64\n",
              "tempo                float64\n",
              "time_signature       float64\n",
              "track_href            object\n",
              "track_name_prev       object\n",
              "track_number         float64\n",
              "uri                   object\n",
              "valence              float64\n",
              "type                  object\n",
              "dtype: object"
            ]
          },
          "metadata": {},
          "execution_count": 49
        }
      ]
    },
    {
      "cell_type": "markdown",
      "source": [
        "Notable Columns:"
      ],
      "metadata": {
        "id": "Xg4-ziTBkmkZ"
      }
    },
    {
      "cell_type": "code",
      "source": [
        "# 'lyrics' column:\n",
        "df['lyrics'].iloc[0]"
      ],
      "metadata": {
        "colab": {
          "base_uri": "https://localhost:8080/",
          "height": 142
        },
        "id": "LkOEVfn6iKc-",
        "outputId": "d684a9cb-c81a-4403-e70f-35a3dcf108eb"
      },
      "execution_count": null,
      "outputs": [
        {
          "output_type": "execute_result",
          "data": {
            "application/vnd.google.colaboratory.intrinsic+json": {
              "type": "string"
            },
            "text/plain": [
              "\"\\r\\n\\r\\nPerhaps I am bound to be restless\\r\\nAlways yearning, never satisfied\\r\\nPerhaps I'm aching for nothing\\r\\nThat words can't ever define\\r\\n\\r\\nWas I happy in those moments\\r\\nOr have I made it seem that way?\\r\\nWas I back there tomorrow\\r\\nCould feel as lacking as today?\\r\\n\\r\\nBut you in your golden hour\\r\\nAnd you with your sweetest song\\r\\nAnd you with your tender offerings\\r\\nHow could I ever do you wrong?\\r\\n\\r\\nThere's an unrest that keeps me marching\\r\\nThere's foolish hope that can be found\\r\\nSomething so true and lasting\\r\\nCould it land me on the ground?\\r\\nStill I like my world boundless\\r\\nIt never ceases to entice\\r\\nIt's the hunger in my bones\\r\\nIt's the new day in my eyes\\r\\n\\r\\nAnd you in your darkened hour\\r\\nAnd me and my broken soul\\r\\nHere you come with the tender offerings\\r\\nHow could I ever do you wrong?\\r\\n\\r\\nAnd me in my doubting hour\\r\\nAnd you with your soothing song\\r\\nAnd you when you call my mercy\\r\\nAnd you when you can't be strong\\r\\nHere you come with your tender offerings\\r\\nHow could I ever do you wrong?\\r\\nHow could I ever do you wrong?\\r\\nHow could I ever do you wrong?\\r\\n\""
            ]
          },
          "metadata": {},
          "execution_count": 69
        }
      ]
    },
    {
      "cell_type": "code",
      "source": [
        "# Plays the track in a web browser. Want to do something like this in React. Figure out how.\n",
        "df['preview_url'].iloc[0]\t"
      ],
      "metadata": {
        "colab": {
          "base_uri": "https://localhost:8080/",
          "height": 35
        },
        "id": "3p8S0oKojKea",
        "outputId": "cea58418-0f7b-4425-dd28-b6d87ae3d4be"
      },
      "execution_count": null,
      "outputs": [
        {
          "output_type": "execute_result",
          "data": {
            "application/vnd.google.colaboratory.intrinsic+json": {
              "type": "string"
            },
            "text/plain": [
              "'https://p.scdn.co/mp3-preview/1b05a902da3a251d07a38aa710ffae559fc33d08?cid=b3cdb16d0df2409abf6a8f6c2f6c2e0c'"
            ]
          },
          "metadata": {},
          "execution_count": 70
        }
      ]
    },
    {
      "cell_type": "code",
      "source": [
        "# Stats for the whole table:\n",
        "df.info()"
      ],
      "metadata": {
        "colab": {
          "base_uri": "https://localhost:8080/"
        },
        "id": "z-L1BSbPQKS2",
        "outputId": "42adcb8e-308d-4b5b-fd4b-e5be340308cd"
      },
      "execution_count": null,
      "outputs": [
        {
          "output_type": "stream",
          "name": "stdout",
          "text": [
            "<class 'pandas.core.frame.DataFrame'>\n",
            "RangeIndex: 101939 entries, 0 to 101938\n",
            "Data columns (total 31 columns):\n",
            " #   Column             Non-Null Count   Dtype  \n",
            "---  ------             --------------   -----  \n",
            " 0   acousticness       101939 non-null  float64\n",
            " 1   album_id           101939 non-null  object \n",
            " 2   analysis_url       101939 non-null  object \n",
            " 3   artists_id         101939 non-null  object \n",
            " 4   available_markets  101939 non-null  object \n",
            " 5   country            101939 non-null  object \n",
            " 6   danceability       101939 non-null  float64\n",
            " 7   disc_number        101939 non-null  float64\n",
            " 8   duration_ms        101939 non-null  float64\n",
            " 9   energy             101939 non-null  float64\n",
            " 10  href               101939 non-null  object \n",
            " 11  id                 101939 non-null  object \n",
            " 12  instrumentalness   101939 non-null  float64\n",
            " 13  key                101939 non-null  float64\n",
            " 14  liveness           101939 non-null  float64\n",
            " 15  loudness           101939 non-null  float64\n",
            " 16  lyrics             101939 non-null  object \n",
            " 17  mode               101939 non-null  float64\n",
            " 18  name               101939 non-null  object \n",
            " 19  playlist           101939 non-null  object \n",
            " 20  popularity         101939 non-null  float64\n",
            " 21  preview_url        101939 non-null  object \n",
            " 22  speechiness        101939 non-null  float64\n",
            " 23  tempo              101939 non-null  float64\n",
            " 24  time_signature     101939 non-null  float64\n",
            " 25  track_href         101939 non-null  object \n",
            " 26  track_name_prev    101939 non-null  object \n",
            " 27  track_number       101939 non-null  float64\n",
            " 28  uri                101939 non-null  object \n",
            " 29  valence            101939 non-null  float64\n",
            " 30  type               101939 non-null  object \n",
            "dtypes: float64(16), object(15)\n",
            "memory usage: 24.1+ MB\n"
          ]
        }
      ]
    },
    {
      "cell_type": "markdown",
      "source": [
        "From above, we can see tracks.csv has:\n",
        "101,939 rows, 31 columns.\n"
      ],
      "metadata": {
        "id": "W-_yDUGpQawM"
      }
    },
    {
      "cell_type": "markdown",
      "source": [
        "Individual Column Exploration:"
      ],
      "metadata": {
        "id": "0dObWJNKRWWr"
      }
    },
    {
      "cell_type": "code",
      "source": [
        "# stats for 'acousticness' column:\n",
        "df['acousticness'].describe()"
      ],
      "metadata": {
        "colab": {
          "base_uri": "https://localhost:8080/"
        },
        "id": "xnhEN4lyOtLZ",
        "outputId": "8078c59b-322c-42af-f60e-394ab6bf32e3"
      },
      "execution_count": null,
      "outputs": [
        {
          "output_type": "execute_result",
          "data": {
            "text/plain": [
              "count    101939.000000\n",
              "mean          0.352124\n",
              "std           0.334855\n",
              "min           0.000000\n",
              "25%           0.040700\n",
              "50%           0.238000\n",
              "75%           0.645000\n",
              "max           0.996000\n",
              "Name: acousticness, dtype: float64"
            ]
          },
          "metadata": {},
          "execution_count": 72
        }
      ]
    },
    {
      "cell_type": "code",
      "source": [
        "df['danceability'].describe()"
      ],
      "metadata": {
        "id": "vOT1-qagO18V",
        "colab": {
          "base_uri": "https://localhost:8080/"
        },
        "outputId": "6e2bf86c-7625-475d-8678-de892ea36493"
      },
      "execution_count": null,
      "outputs": [
        {
          "output_type": "execute_result",
          "data": {
            "text/plain": [
              "count    101939.000000\n",
              "mean          0.586015\n",
              "std           0.177724\n",
              "min           0.000000\n",
              "25%           0.480000\n",
              "50%           0.610000\n",
              "75%           0.714000\n",
              "max           0.989000\n",
              "Name: danceability, dtype: float64"
            ]
          },
          "metadata": {},
          "execution_count": 73
        }
      ]
    },
    {
      "cell_type": "code",
      "source": [
        "df['duration_ms'].describe()"
      ],
      "metadata": {
        "id": "QFLKPwASVDQR",
        "colab": {
          "base_uri": "https://localhost:8080/"
        },
        "outputId": "5d6f96d7-b561-4e77-d145-a1fe89bbfff3"
      },
      "execution_count": null,
      "outputs": [
        {
          "output_type": "execute_result",
          "data": {
            "text/plain": [
              "count    1.019390e+05\n",
              "mean     2.467708e+05\n",
              "std      1.904303e+05\n",
              "min      1.155000e+03\n",
              "25%      1.840000e+05\n",
              "50%      2.168930e+05\n",
              "75%      2.610550e+05\n",
              "max      5.505831e+06\n",
              "Name: duration_ms, dtype: float64"
            ]
          },
          "metadata": {},
          "execution_count": 74
        }
      ]
    },
    {
      "cell_type": "markdown",
      "source": [
        "Export the cleaned file:\n"
      ],
      "metadata": {
        "id": "TchXAvg5bgTO"
      }
    },
    {
      "cell_type": "code",
      "source": [
        "# df.to_csv('clean_tracks.csv') \n",
        "# files.download('clean_tracks.csv')"
      ],
      "metadata": {
        "id": "twP08xsSVDNh"
      },
      "execution_count": null,
      "outputs": []
    },
    {
      "cell_type": "code",
      "source": [
        ""
      ],
      "metadata": {
        "id": "C1fGOL8uVC05"
      },
      "execution_count": null,
      "outputs": []
    }
  ]
}