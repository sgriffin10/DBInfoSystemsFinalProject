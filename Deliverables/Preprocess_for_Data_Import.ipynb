{
  "nbformat": 4,
  "nbformat_minor": 0,
  "metadata": {
    "colab": {
      "name": "Preprocess_for_Data_Import.ipynb",
      "provenance": [],
      "collapsed_sections": []
    },
    "kernelspec": {
      "name": "python3",
      "display_name": "Python 3"
    },
    "language_info": {
      "name": "python"
    }
  },
  "cells": [
    {
      "cell_type": "code",
      "execution_count": 155,
      "metadata": {
        "id": "AioUVAqAKK0s"
      },
      "outputs": [],
      "source": [
        "from google.colab import drive"
      ]
    },
    {
      "cell_type": "code",
      "source": [
        "drive.mount('/content/drive')"
      ],
      "metadata": {
        "colab": {
          "base_uri": "https://localhost:8080/"
        },
        "id": "POVqaXbjKbEt",
        "outputId": "72ff57f9-2488-488e-aa90-91081d4d43f5"
      },
      "execution_count": 156,
      "outputs": [
        {
          "output_type": "stream",
          "name": "stdout",
          "text": [
            "Drive already mounted at /content/drive; to attempt to forcibly remount, call drive.mount(\"/content/drive\", force_remount=True).\n"
          ]
        }
      ]
    },
    {
      "cell_type": "code",
      "source": [
        "import pandas as pd\n",
        "\n",
        "# export df to .csv\n",
        "from google.colab import files"
      ],
      "metadata": {
        "id": "FaE7z-UXKnxo"
      },
      "execution_count": 157,
      "outputs": []
    },
    {
      "cell_type": "markdown",
      "source": [
        "# artists.csv"
      ],
      "metadata": {
        "id": "A6iQB6JtOHhn"
      }
    },
    {
      "cell_type": "code",
      "source": [
        "artists = pd.read_csv('/content/drive/MyDrive/Colab Notebooks/Data/spotify_artists.csv')"
      ],
      "metadata": {
        "id": "NZapoevPVRXq"
      },
      "execution_count": 158,
      "outputs": []
    },
    {
      "cell_type": "markdown",
      "source": [
        "Data Cleaning:"
      ],
      "metadata": {
        "id": "SBbKAsDrNSdH"
      }
    },
    {
      "cell_type": "code",
      "source": [
        "# Drop first column \n",
        "artists = artists.iloc[: , 1:]"
      ],
      "metadata": {
        "id": "-yv3WdC3VRUC"
      },
      "execution_count": 159,
      "outputs": []
    },
    {
      "cell_type": "code",
      "source": [
        "# check null value for entire df:\n",
        "artists.isnull().values.any()"
      ],
      "metadata": {
        "colab": {
          "base_uri": "https://localhost:8080/"
        },
        "id": "aUIiDYFoNJry",
        "outputId": "c5df9ba7-ab37-4bd2-a4dd-575a8a467ebc"
      },
      "execution_count": 160,
      "outputs": [
        {
          "output_type": "execute_result",
          "data": {
            "text/plain": [
              "True"
            ]
          },
          "metadata": {},
          "execution_count": 160
        }
      ]
    },
    {
      "cell_type": "code",
      "source": [
        "# Output rows with null values:\n",
        "is_NaN = artists.isnull()\n",
        "row_has_NaN = is_NaN.any(axis=1)\n",
        "rows_with_NaN = artists[row_has_NaN]\n",
        "rows_with_NaN"
      ],
      "metadata": {
        "colab": {
          "base_uri": "https://localhost:8080/",
          "height": 80
        },
        "id": "L-QsJyRIWNnj",
        "outputId": "9f968d2b-3849-457f-9c56-4ea03759a4a6"
      },
      "execution_count": 161,
      "outputs": [
        {
          "output_type": "execute_result",
          "data": {
            "text/plain": [
              "      artist_popularity  followers genres                      id name  \\\n",
              "3836                 50       1142     []  4oPYazJJ1o4rWBrTw9lm40  NaN   \n",
              "\n",
              "                    track_id track_name_prev    type  \n",
              "3836  5OJZjoVoyNbzD24C7tkycW         track_7  artist  "
            ],
            "text/html": [
              "\n",
              "  <div id=\"df-92a5a710-b617-4cc0-beda-e3c667f0b215\">\n",
              "    <div class=\"colab-df-container\">\n",
              "      <div>\n",
              "<style scoped>\n",
              "    .dataframe tbody tr th:only-of-type {\n",
              "        vertical-align: middle;\n",
              "    }\n",
              "\n",
              "    .dataframe tbody tr th {\n",
              "        vertical-align: top;\n",
              "    }\n",
              "\n",
              "    .dataframe thead th {\n",
              "        text-align: right;\n",
              "    }\n",
              "</style>\n",
              "<table border=\"1\" class=\"dataframe\">\n",
              "  <thead>\n",
              "    <tr style=\"text-align: right;\">\n",
              "      <th></th>\n",
              "      <th>artist_popularity</th>\n",
              "      <th>followers</th>\n",
              "      <th>genres</th>\n",
              "      <th>id</th>\n",
              "      <th>name</th>\n",
              "      <th>track_id</th>\n",
              "      <th>track_name_prev</th>\n",
              "      <th>type</th>\n",
              "    </tr>\n",
              "  </thead>\n",
              "  <tbody>\n",
              "    <tr>\n",
              "      <th>3836</th>\n",
              "      <td>50</td>\n",
              "      <td>1142</td>\n",
              "      <td>[]</td>\n",
              "      <td>4oPYazJJ1o4rWBrTw9lm40</td>\n",
              "      <td>NaN</td>\n",
              "      <td>5OJZjoVoyNbzD24C7tkycW</td>\n",
              "      <td>track_7</td>\n",
              "      <td>artist</td>\n",
              "    </tr>\n",
              "  </tbody>\n",
              "</table>\n",
              "</div>\n",
              "      <button class=\"colab-df-convert\" onclick=\"convertToInteractive('df-92a5a710-b617-4cc0-beda-e3c667f0b215')\"\n",
              "              title=\"Convert this dataframe to an interactive table.\"\n",
              "              style=\"display:none;\">\n",
              "        \n",
              "  <svg xmlns=\"http://www.w3.org/2000/svg\" height=\"24px\"viewBox=\"0 0 24 24\"\n",
              "       width=\"24px\">\n",
              "    <path d=\"M0 0h24v24H0V0z\" fill=\"none\"/>\n",
              "    <path d=\"M18.56 5.44l.94 2.06.94-2.06 2.06-.94-2.06-.94-.94-2.06-.94 2.06-2.06.94zm-11 1L8.5 8.5l.94-2.06 2.06-.94-2.06-.94L8.5 2.5l-.94 2.06-2.06.94zm10 10l.94 2.06.94-2.06 2.06-.94-2.06-.94-.94-2.06-.94 2.06-2.06.94z\"/><path d=\"M17.41 7.96l-1.37-1.37c-.4-.4-.92-.59-1.43-.59-.52 0-1.04.2-1.43.59L10.3 9.45l-7.72 7.72c-.78.78-.78 2.05 0 2.83L4 21.41c.39.39.9.59 1.41.59.51 0 1.02-.2 1.41-.59l7.78-7.78 2.81-2.81c.8-.78.8-2.07 0-2.86zM5.41 20L4 18.59l7.72-7.72 1.47 1.35L5.41 20z\"/>\n",
              "  </svg>\n",
              "      </button>\n",
              "      \n",
              "  <style>\n",
              "    .colab-df-container {\n",
              "      display:flex;\n",
              "      flex-wrap:wrap;\n",
              "      gap: 12px;\n",
              "    }\n",
              "\n",
              "    .colab-df-convert {\n",
              "      background-color: #E8F0FE;\n",
              "      border: none;\n",
              "      border-radius: 50%;\n",
              "      cursor: pointer;\n",
              "      display: none;\n",
              "      fill: #1967D2;\n",
              "      height: 32px;\n",
              "      padding: 0 0 0 0;\n",
              "      width: 32px;\n",
              "    }\n",
              "\n",
              "    .colab-df-convert:hover {\n",
              "      background-color: #E2EBFA;\n",
              "      box-shadow: 0px 1px 2px rgba(60, 64, 67, 0.3), 0px 1px 3px 1px rgba(60, 64, 67, 0.15);\n",
              "      fill: #174EA6;\n",
              "    }\n",
              "\n",
              "    [theme=dark] .colab-df-convert {\n",
              "      background-color: #3B4455;\n",
              "      fill: #D2E3FC;\n",
              "    }\n",
              "\n",
              "    [theme=dark] .colab-df-convert:hover {\n",
              "      background-color: #434B5C;\n",
              "      box-shadow: 0px 1px 3px 1px rgba(0, 0, 0, 0.15);\n",
              "      filter: drop-shadow(0px 1px 2px rgba(0, 0, 0, 0.3));\n",
              "      fill: #FFFFFF;\n",
              "    }\n",
              "  </style>\n",
              "\n",
              "      <script>\n",
              "        const buttonEl =\n",
              "          document.querySelector('#df-92a5a710-b617-4cc0-beda-e3c667f0b215 button.colab-df-convert');\n",
              "        buttonEl.style.display =\n",
              "          google.colab.kernel.accessAllowed ? 'block' : 'none';\n",
              "\n",
              "        async function convertToInteractive(key) {\n",
              "          const element = document.querySelector('#df-92a5a710-b617-4cc0-beda-e3c667f0b215');\n",
              "          const dataTable =\n",
              "            await google.colab.kernel.invokeFunction('convertToInteractive',\n",
              "                                                     [key], {});\n",
              "          if (!dataTable) return;\n",
              "\n",
              "          const docLinkHtml = 'Like what you see? Visit the ' +\n",
              "            '<a target=\"_blank\" href=https://colab.research.google.com/notebooks/data_table.ipynb>data table notebook</a>'\n",
              "            + ' to learn more about interactive tables.';\n",
              "          element.innerHTML = '';\n",
              "          dataTable['output_type'] = 'display_data';\n",
              "          await google.colab.output.renderOutput(dataTable, element);\n",
              "          const docLink = document.createElement('div');\n",
              "          docLink.innerHTML = docLinkHtml;\n",
              "          element.appendChild(docLink);\n",
              "        }\n",
              "      </script>\n",
              "    </div>\n",
              "  </div>\n",
              "  "
            ]
          },
          "metadata": {},
          "execution_count": 161
        }
      ]
    },
    {
      "cell_type": "code",
      "source": [
        "# Only one row has null value, looks like missing artist name. Decide to drop this row.\n",
        "artists = artists.drop(3836)"
      ],
      "metadata": {
        "id": "B0FfKAXYNJkB"
      },
      "execution_count": 162,
      "outputs": []
    },
    {
      "cell_type": "code",
      "source": [
        "# After dropping that one row, check null values for the entire df again:\n",
        "artists.isnull().values.any()"
      ],
      "metadata": {
        "colab": {
          "base_uri": "https://localhost:8080/"
        },
        "id": "Ugm2nsJUNJe1",
        "outputId": "13d93824-4218-481f-9c73-07ead0457607"
      },
      "execution_count": 163,
      "outputs": [
        {
          "output_type": "execute_result",
          "data": {
            "text/plain": [
              "False"
            ]
          },
          "metadata": {},
          "execution_count": 163
        }
      ]
    },
    {
      "cell_type": "code",
      "source": [
        "# drop column: type\n",
        "artists.drop(['type'], axis=1, inplace=True)"
      ],
      "metadata": {
        "id": "3HghRHZ4IXVD"
      },
      "execution_count": 164,
      "outputs": []
    },
    {
      "cell_type": "code",
      "source": [
        "# drop column: track_id\n",
        "artists.drop(['track_id'], axis=1, inplace=True)"
      ],
      "metadata": {
        "id": "8uwueTqZXavj"
      },
      "execution_count": 165,
      "outputs": []
    },
    {
      "cell_type": "code",
      "source": [
        "# drop column: track_name_prev\n",
        "artists.drop(['track_name_prev'], axis=1, inplace=True)"
      ],
      "metadata": {
        "id": "2JvLrNKCXast"
      },
      "execution_count": 166,
      "outputs": []
    },
    {
      "cell_type": "code",
      "source": [
        "# get a series of all Artists primary keys:\n",
        "artists_primary_keys = artists['id']"
      ],
      "metadata": {
        "id": "AMi1-q_oO4ZF"
      },
      "execution_count": 167,
      "outputs": []
    },
    {
      "cell_type": "markdown",
      "source": [
        "Re-arrange column names so that PRIMARY KEY is the first column:"
      ],
      "metadata": {
        "id": "mH4z4o4wI0Pg"
      }
    },
    {
      "cell_type": "code",
      "source": [
        "artists.columns"
      ],
      "metadata": {
        "colab": {
          "base_uri": "https://localhost:8080/"
        },
        "id": "DHxoesfLJzi5",
        "outputId": "2a267118-fad5-4a7e-bfc8-eb160d3b77f2"
      },
      "execution_count": 168,
      "outputs": [
        {
          "output_type": "execute_result",
          "data": {
            "text/plain": [
              "Index(['artist_popularity', 'followers', 'genres', 'id', 'name'], dtype='object')"
            ]
          },
          "metadata": {},
          "execution_count": 168
        }
      ]
    },
    {
      "cell_type": "code",
      "source": [
        "neworder = ['id', 'name', 'genres', 'artist_popularity', 'followers']\n",
        "artists = artists.reindex(columns = neworder)"
      ],
      "metadata": {
        "id": "UuJHqNqvIzb5"
      },
      "execution_count": 169,
      "outputs": []
    },
    {
      "cell_type": "code",
      "source": [
        "artists.info()"
      ],
      "metadata": {
        "colab": {
          "base_uri": "https://localhost:8080/"
        },
        "id": "unuWR7gkbqEU",
        "outputId": "dfbfc15d-c585-4fe2-acce-5081d5672c09"
      },
      "execution_count": 170,
      "outputs": [
        {
          "output_type": "stream",
          "name": "stdout",
          "text": [
            "<class 'pandas.core.frame.DataFrame'>\n",
            "Int64Index: 56128 entries, 0 to 56128\n",
            "Data columns (total 5 columns):\n",
            " #   Column             Non-Null Count  Dtype \n",
            "---  ------             --------------  ----- \n",
            " 0   id                 56128 non-null  object\n",
            " 1   name               56128 non-null  object\n",
            " 2   genres             56128 non-null  object\n",
            " 3   artist_popularity  56128 non-null  int64 \n",
            " 4   followers          56128 non-null  int64 \n",
            "dtypes: int64(2), object(3)\n",
            "memory usage: 2.6+ MB\n"
          ]
        }
      ]
    },
    {
      "cell_type": "code",
      "source": [
        "artists.head(2)"
      ],
      "metadata": {
        "colab": {
          "base_uri": "https://localhost:8080/",
          "height": 112
        },
        "id": "kj_X69P0JDPR",
        "outputId": "f17d5522-2bf7-498c-c6dc-755fffa88f9d"
      },
      "execution_count": 171,
      "outputs": [
        {
          "output_type": "execute_result",
          "data": {
            "text/plain": [
              "                       id            name  \\\n",
              "0  4mGnpjhqgx4RUdsIJiURdo   Juliano Cezar   \n",
              "1  1dLnVku4VQUOLswwDFvRc9  The Grenadines   \n",
              "\n",
              "                                              genres  artist_popularity  \\\n",
              "0  ['sertanejo', 'sertanejo pop', 'sertanejo trad...                 44   \n",
              "1                                                 []                 22   \n",
              "\n",
              "   followers  \n",
              "0      23230  \n",
              "1        313  "
            ],
            "text/html": [
              "\n",
              "  <div id=\"df-faf42f01-c099-4c83-9ed9-b60fd2eebf2a\">\n",
              "    <div class=\"colab-df-container\">\n",
              "      <div>\n",
              "<style scoped>\n",
              "    .dataframe tbody tr th:only-of-type {\n",
              "        vertical-align: middle;\n",
              "    }\n",
              "\n",
              "    .dataframe tbody tr th {\n",
              "        vertical-align: top;\n",
              "    }\n",
              "\n",
              "    .dataframe thead th {\n",
              "        text-align: right;\n",
              "    }\n",
              "</style>\n",
              "<table border=\"1\" class=\"dataframe\">\n",
              "  <thead>\n",
              "    <tr style=\"text-align: right;\">\n",
              "      <th></th>\n",
              "      <th>id</th>\n",
              "      <th>name</th>\n",
              "      <th>genres</th>\n",
              "      <th>artist_popularity</th>\n",
              "      <th>followers</th>\n",
              "    </tr>\n",
              "  </thead>\n",
              "  <tbody>\n",
              "    <tr>\n",
              "      <th>0</th>\n",
              "      <td>4mGnpjhqgx4RUdsIJiURdo</td>\n",
              "      <td>Juliano Cezar</td>\n",
              "      <td>['sertanejo', 'sertanejo pop', 'sertanejo trad...</td>\n",
              "      <td>44</td>\n",
              "      <td>23230</td>\n",
              "    </tr>\n",
              "    <tr>\n",
              "      <th>1</th>\n",
              "      <td>1dLnVku4VQUOLswwDFvRc9</td>\n",
              "      <td>The Grenadines</td>\n",
              "      <td>[]</td>\n",
              "      <td>22</td>\n",
              "      <td>313</td>\n",
              "    </tr>\n",
              "  </tbody>\n",
              "</table>\n",
              "</div>\n",
              "      <button class=\"colab-df-convert\" onclick=\"convertToInteractive('df-faf42f01-c099-4c83-9ed9-b60fd2eebf2a')\"\n",
              "              title=\"Convert this dataframe to an interactive table.\"\n",
              "              style=\"display:none;\">\n",
              "        \n",
              "  <svg xmlns=\"http://www.w3.org/2000/svg\" height=\"24px\"viewBox=\"0 0 24 24\"\n",
              "       width=\"24px\">\n",
              "    <path d=\"M0 0h24v24H0V0z\" fill=\"none\"/>\n",
              "    <path d=\"M18.56 5.44l.94 2.06.94-2.06 2.06-.94-2.06-.94-.94-2.06-.94 2.06-2.06.94zm-11 1L8.5 8.5l.94-2.06 2.06-.94-2.06-.94L8.5 2.5l-.94 2.06-2.06.94zm10 10l.94 2.06.94-2.06 2.06-.94-2.06-.94-.94-2.06-.94 2.06-2.06.94z\"/><path d=\"M17.41 7.96l-1.37-1.37c-.4-.4-.92-.59-1.43-.59-.52 0-1.04.2-1.43.59L10.3 9.45l-7.72 7.72c-.78.78-.78 2.05 0 2.83L4 21.41c.39.39.9.59 1.41.59.51 0 1.02-.2 1.41-.59l7.78-7.78 2.81-2.81c.8-.78.8-2.07 0-2.86zM5.41 20L4 18.59l7.72-7.72 1.47 1.35L5.41 20z\"/>\n",
              "  </svg>\n",
              "      </button>\n",
              "      \n",
              "  <style>\n",
              "    .colab-df-container {\n",
              "      display:flex;\n",
              "      flex-wrap:wrap;\n",
              "      gap: 12px;\n",
              "    }\n",
              "\n",
              "    .colab-df-convert {\n",
              "      background-color: #E8F0FE;\n",
              "      border: none;\n",
              "      border-radius: 50%;\n",
              "      cursor: pointer;\n",
              "      display: none;\n",
              "      fill: #1967D2;\n",
              "      height: 32px;\n",
              "      padding: 0 0 0 0;\n",
              "      width: 32px;\n",
              "    }\n",
              "\n",
              "    .colab-df-convert:hover {\n",
              "      background-color: #E2EBFA;\n",
              "      box-shadow: 0px 1px 2px rgba(60, 64, 67, 0.3), 0px 1px 3px 1px rgba(60, 64, 67, 0.15);\n",
              "      fill: #174EA6;\n",
              "    }\n",
              "\n",
              "    [theme=dark] .colab-df-convert {\n",
              "      background-color: #3B4455;\n",
              "      fill: #D2E3FC;\n",
              "    }\n",
              "\n",
              "    [theme=dark] .colab-df-convert:hover {\n",
              "      background-color: #434B5C;\n",
              "      box-shadow: 0px 1px 3px 1px rgba(0, 0, 0, 0.15);\n",
              "      filter: drop-shadow(0px 1px 2px rgba(0, 0, 0, 0.3));\n",
              "      fill: #FFFFFF;\n",
              "    }\n",
              "  </style>\n",
              "\n",
              "      <script>\n",
              "        const buttonEl =\n",
              "          document.querySelector('#df-faf42f01-c099-4c83-9ed9-b60fd2eebf2a button.colab-df-convert');\n",
              "        buttonEl.style.display =\n",
              "          google.colab.kernel.accessAllowed ? 'block' : 'none';\n",
              "\n",
              "        async function convertToInteractive(key) {\n",
              "          const element = document.querySelector('#df-faf42f01-c099-4c83-9ed9-b60fd2eebf2a');\n",
              "          const dataTable =\n",
              "            await google.colab.kernel.invokeFunction('convertToInteractive',\n",
              "                                                     [key], {});\n",
              "          if (!dataTable) return;\n",
              "\n",
              "          const docLinkHtml = 'Like what you see? Visit the ' +\n",
              "            '<a target=\"_blank\" href=https://colab.research.google.com/notebooks/data_table.ipynb>data table notebook</a>'\n",
              "            + ' to learn more about interactive tables.';\n",
              "          element.innerHTML = '';\n",
              "          dataTable['output_type'] = 'display_data';\n",
              "          await google.colab.output.renderOutput(dataTable, element);\n",
              "          const docLink = document.createElement('div');\n",
              "          docLink.innerHTML = docLinkHtml;\n",
              "          element.appendChild(docLink);\n",
              "        }\n",
              "      </script>\n",
              "    </div>\n",
              "  </div>\n",
              "  "
            ]
          },
          "metadata": {},
          "execution_count": 171
        }
      ]
    },
    {
      "cell_type": "markdown",
      "source": [
        "#### Export cleaned Artists:"
      ],
      "metadata": {
        "id": "-4lHC2JJP_Gk"
      }
    },
    {
      "cell_type": "code",
      "source": [
        "artists.to_csv('clean_artists.csv', index = False) \n",
        "files.download('clean_artists.csv')"
      ],
      "metadata": {
        "id": "niRLgJtxVDEB",
        "colab": {
          "base_uri": "https://localhost:8080/",
          "height": 17
        },
        "outputId": "369fdad4-c01d-4a3b-fb34-dc50eeef5997"
      },
      "execution_count": 172,
      "outputs": [
        {
          "output_type": "display_data",
          "data": {
            "text/plain": [
              "<IPython.core.display.Javascript object>"
            ],
            "application/javascript": [
              "\n",
              "    async function download(id, filename, size) {\n",
              "      if (!google.colab.kernel.accessAllowed) {\n",
              "        return;\n",
              "      }\n",
              "      const div = document.createElement('div');\n",
              "      const label = document.createElement('label');\n",
              "      label.textContent = `Downloading \"${filename}\": `;\n",
              "      div.appendChild(label);\n",
              "      const progress = document.createElement('progress');\n",
              "      progress.max = size;\n",
              "      div.appendChild(progress);\n",
              "      document.body.appendChild(div);\n",
              "\n",
              "      const buffers = [];\n",
              "      let downloaded = 0;\n",
              "\n",
              "      const channel = await google.colab.kernel.comms.open(id);\n",
              "      // Send a message to notify the kernel that we're ready.\n",
              "      channel.send({})\n",
              "\n",
              "      for await (const message of channel.messages) {\n",
              "        // Send a message to notify the kernel that we're ready.\n",
              "        channel.send({})\n",
              "        if (message.buffers) {\n",
              "          for (const buffer of message.buffers) {\n",
              "            buffers.push(buffer);\n",
              "            downloaded += buffer.byteLength;\n",
              "            progress.value = downloaded;\n",
              "          }\n",
              "        }\n",
              "      }\n",
              "      const blob = new Blob(buffers, {type: 'application/binary'});\n",
              "      const a = document.createElement('a');\n",
              "      a.href = window.URL.createObjectURL(blob);\n",
              "      a.download = filename;\n",
              "      div.appendChild(a);\n",
              "      a.click();\n",
              "      div.remove();\n",
              "    }\n",
              "  "
            ]
          },
          "metadata": {}
        },
        {
          "output_type": "display_data",
          "data": {
            "text/plain": [
              "<IPython.core.display.Javascript object>"
            ],
            "application/javascript": [
              "download(\"download_7f8f1508-5fa5-4254-9016-cbfb2f6b3e91\", \"clean_artists.csv\", 3956936)"
            ]
          },
          "metadata": {}
        }
      ]
    },
    {
      "cell_type": "markdown",
      "source": [
        "# albums.csv"
      ],
      "metadata": {
        "id": "PBnOedzIRWgZ"
      }
    },
    {
      "cell_type": "code",
      "source": [
        "albums = pd.read_csv('/content/drive/MyDrive/Colab Notebooks/Data/spotify_albums.csv')"
      ],
      "metadata": {
        "id": "Bm4r6edrK9rD"
      },
      "execution_count": 173,
      "outputs": []
    },
    {
      "cell_type": "markdown",
      "source": [
        "Data Cleaning:"
      ],
      "metadata": {
        "id": "q-utHpTmLDbP"
      }
    },
    {
      "cell_type": "code",
      "source": [
        "# Drop first column \n",
        "albums = albums.iloc[: , 1:]"
      ],
      "metadata": {
        "id": "iSXlP1P6Ma4m"
      },
      "execution_count": 174,
      "outputs": []
    },
    {
      "cell_type": "code",
      "source": [
        "# drop column: track_id\n",
        "albums.drop(['track_id'], axis=1, inplace=True)"
      ],
      "metadata": {
        "id": "0lWvFhpQWEOf"
      },
      "execution_count": 175,
      "outputs": []
    },
    {
      "cell_type": "code",
      "source": [
        "# drop column: track_name_prev\n",
        "albums.drop(['track_name_prev'], axis=1, inplace=True)"
      ],
      "metadata": {
        "id": "KUr4yvPDWgf7"
      },
      "execution_count": 176,
      "outputs": []
    },
    {
      "cell_type": "code",
      "source": [
        "# drop column: uri\n",
        "albums.drop(['uri'], axis=1, inplace=True)"
      ],
      "metadata": {
        "id": "kKJYes1Mds9-"
      },
      "execution_count": 177,
      "outputs": []
    },
    {
      "cell_type": "code",
      "source": [
        "# drop column: release_date_precision\n",
        "albums.drop(['release_date_precision'], axis=1, inplace=True)"
      ],
      "metadata": {
        "id": "1DZY_8r52Au-"
      },
      "execution_count": 178,
      "outputs": []
    },
    {
      "cell_type": "code",
      "source": [
        "# drop column: release_date\n",
        "albums.drop(['release_date'], axis=1, inplace=True)"
      ],
      "metadata": {
        "id": "ndrI_uKRFfZs"
      },
      "execution_count": 179,
      "outputs": []
    },
    {
      "cell_type": "code",
      "source": [
        "# drop column: href\n",
        "albums.drop(['href'], axis=1, inplace=True)"
      ],
      "metadata": {
        "id": "kZdC5Z65Zou9"
      },
      "execution_count": 180,
      "outputs": []
    },
    {
      "cell_type": "code",
      "source": [
        "# drop column: type\n",
        "albums.drop(['type'], axis=1, inplace=True)"
      ],
      "metadata": {
        "id": "YuT9Dfl1bWoT"
      },
      "execution_count": 181,
      "outputs": []
    },
    {
      "cell_type": "code",
      "source": [
        "# drop column: available_markets\n",
        "albums.drop(['available_markets'], axis=1, inplace=True)"
      ],
      "metadata": {
        "id": "06Wc6Ot6oXER"
      },
      "execution_count": 182,
      "outputs": []
    },
    {
      "cell_type": "code",
      "source": [
        "# check null value for entire df:\n",
        "albums.isnull().values.any()"
      ],
      "metadata": {
        "colab": {
          "base_uri": "https://localhost:8080/"
        },
        "id": "L7BH3yOWLZTV",
        "outputId": "9eef5117-5d3c-4ce8-cede-c2b5b243fe42"
      },
      "execution_count": 183,
      "outputs": [
        {
          "output_type": "execute_result",
          "data": {
            "text/plain": [
              "False"
            ]
          },
          "metadata": {},
          "execution_count": 183
        }
      ]
    },
    {
      "cell_type": "code",
      "source": [
        "albums.shape"
      ],
      "metadata": {
        "colab": {
          "base_uri": "https://localhost:8080/"
        },
        "id": "6QDY6tiRk-YL",
        "outputId": "7025110c-be19-4bbf-ea87-05d4d81a084e"
      },
      "execution_count": 184,
      "outputs": [
        {
          "output_type": "execute_result",
          "data": {
            "text/plain": [
              "(75511, 7)"
            ]
          },
          "metadata": {},
          "execution_count": 184
        }
      ]
    },
    {
      "cell_type": "markdown",
      "source": [
        "Delete tuples which do not match with the primary key from another table:"
      ],
      "metadata": {
        "id": "MnRe31O-RIDs"
      }
    },
    {
      "cell_type": "code",
      "source": [
        "boolean_series = albums['artist_id'].isin(artists_primary_keys)\n",
        "albums = albums[boolean_series]\n",
        "albums = albums.reset_index()\n",
        "albums = albums.iloc[: , 1:]"
      ],
      "metadata": {
        "id": "xkPTFRMHPs88"
      },
      "execution_count": 185,
      "outputs": []
    },
    {
      "cell_type": "code",
      "source": [
        "albums.shape"
      ],
      "metadata": {
        "colab": {
          "base_uri": "https://localhost:8080/"
        },
        "id": "Xvls4v3PM-z3",
        "outputId": "a0fbb609-555f-41bc-b77f-b125834ddd85"
      },
      "execution_count": 186,
      "outputs": [
        {
          "output_type": "execute_result",
          "data": {
            "text/plain": [
              "(74991, 7)"
            ]
          },
          "metadata": {},
          "execution_count": 186
        }
      ]
    },
    {
      "cell_type": "code",
      "source": [
        "# get a series of all Albums primary keys:\n",
        "albums_primary_keys = albums['id']"
      ],
      "metadata": {
        "id": "bBQO3Q7_cW-p"
      },
      "execution_count": 187,
      "outputs": []
    },
    {
      "cell_type": "markdown",
      "source": [
        "Re-arrange column names so that PRIMARY KEY is the first column, FOREIGN KEY is the last column:"
      ],
      "metadata": {
        "id": "kPHDw45kLjS7"
      }
    },
    {
      "cell_type": "code",
      "source": [
        "albums.columns"
      ],
      "metadata": {
        "colab": {
          "base_uri": "https://localhost:8080/"
        },
        "id": "36Ag1QY-LlSz",
        "outputId": "fadc5481-8bdd-4076-960e-f81bd6a2c900"
      },
      "execution_count": 188,
      "outputs": [
        {
          "output_type": "execute_result",
          "data": {
            "text/plain": [
              "Index(['album_type', 'artist_id', 'external_urls', 'id', 'images', 'name',\n",
              "       'total_tracks'],\n",
              "      dtype='object')"
            ]
          },
          "metadata": {},
          "execution_count": 188
        }
      ]
    },
    {
      "cell_type": "code",
      "source": [
        "neworder = ['id', 'name', 'images', 'external_urls', 'album_type', 'total_tracks', 'artist_id']\n",
        "albums = albums.reindex(columns = neworder)"
      ],
      "metadata": {
        "id": "a9PGhx-rLlMM"
      },
      "execution_count": 189,
      "outputs": []
    },
    {
      "cell_type": "code",
      "source": [
        "albums.info()"
      ],
      "metadata": {
        "colab": {
          "base_uri": "https://localhost:8080/"
        },
        "id": "8tQQGhGBPszK",
        "outputId": "6cf63291-b410-4962-91df-5e5eb5375fb2"
      },
      "execution_count": 190,
      "outputs": [
        {
          "output_type": "stream",
          "name": "stdout",
          "text": [
            "<class 'pandas.core.frame.DataFrame'>\n",
            "RangeIndex: 74991 entries, 0 to 74990\n",
            "Data columns (total 7 columns):\n",
            " #   Column         Non-Null Count  Dtype \n",
            "---  ------         --------------  ----- \n",
            " 0   id             74991 non-null  object\n",
            " 1   name           74991 non-null  object\n",
            " 2   images         74991 non-null  object\n",
            " 3   external_urls  74991 non-null  object\n",
            " 4   album_type     74991 non-null  object\n",
            " 5   total_tracks   74991 non-null  int64 \n",
            " 6   artist_id      74991 non-null  object\n",
            "dtypes: int64(1), object(6)\n",
            "memory usage: 4.0+ MB\n"
          ]
        }
      ]
    },
    {
      "cell_type": "code",
      "source": [
        "albums.head(2)"
      ],
      "metadata": {
        "colab": {
          "base_uri": "https://localhost:8080/",
          "height": 225
        },
        "id": "4wlAUJWtNEF5",
        "outputId": "cea9d1ab-6e62-4075-8340-818abfa0089e"
      },
      "execution_count": 191,
      "outputs": [
        {
          "output_type": "execute_result",
          "data": {
            "text/plain": [
              "                       id                                               name  \\\n",
              "0  1gAM7M4rBwEbSPeAQR2nx1                              If I Ain't Got You EP   \n",
              "1  4KfJZV7WfolYlxBzOTo66s  Shostakovich Symphony No.5 - Four Romances on ...   \n",
              "\n",
              "                                              images  \\\n",
              "0  [{'height': 640, 'url': 'https://i.scdn.co/ima...   \n",
              "1  [{'height': 640, 'url': 'https://i.scdn.co/ima...   \n",
              "\n",
              "                                       external_urls album_type  total_tracks  \\\n",
              "0  {'spotify': 'https://open.spotify.com/album/1g...     single             6   \n",
              "1  {'spotify': 'https://open.spotify.com/album/4K...      album             8   \n",
              "\n",
              "                artist_id  \n",
              "0  3DiDSECUqqY1AuBP8qtaIa  \n",
              "1  6s1pCNXcbdtQJlsnM1hRIA  "
            ],
            "text/html": [
              "\n",
              "  <div id=\"df-af80e8fe-ac89-464e-9f8a-f9572af954f4\">\n",
              "    <div class=\"colab-df-container\">\n",
              "      <div>\n",
              "<style scoped>\n",
              "    .dataframe tbody tr th:only-of-type {\n",
              "        vertical-align: middle;\n",
              "    }\n",
              "\n",
              "    .dataframe tbody tr th {\n",
              "        vertical-align: top;\n",
              "    }\n",
              "\n",
              "    .dataframe thead th {\n",
              "        text-align: right;\n",
              "    }\n",
              "</style>\n",
              "<table border=\"1\" class=\"dataframe\">\n",
              "  <thead>\n",
              "    <tr style=\"text-align: right;\">\n",
              "      <th></th>\n",
              "      <th>id</th>\n",
              "      <th>name</th>\n",
              "      <th>images</th>\n",
              "      <th>external_urls</th>\n",
              "      <th>album_type</th>\n",
              "      <th>total_tracks</th>\n",
              "      <th>artist_id</th>\n",
              "    </tr>\n",
              "  </thead>\n",
              "  <tbody>\n",
              "    <tr>\n",
              "      <th>0</th>\n",
              "      <td>1gAM7M4rBwEbSPeAQR2nx1</td>\n",
              "      <td>If I Ain't Got You EP</td>\n",
              "      <td>[{'height': 640, 'url': 'https://i.scdn.co/ima...</td>\n",
              "      <td>{'spotify': 'https://open.spotify.com/album/1g...</td>\n",
              "      <td>single</td>\n",
              "      <td>6</td>\n",
              "      <td>3DiDSECUqqY1AuBP8qtaIa</td>\n",
              "    </tr>\n",
              "    <tr>\n",
              "      <th>1</th>\n",
              "      <td>4KfJZV7WfolYlxBzOTo66s</td>\n",
              "      <td>Shostakovich Symphony No.5 - Four Romances on ...</td>\n",
              "      <td>[{'height': 640, 'url': 'https://i.scdn.co/ima...</td>\n",
              "      <td>{'spotify': 'https://open.spotify.com/album/4K...</td>\n",
              "      <td>album</td>\n",
              "      <td>8</td>\n",
              "      <td>6s1pCNXcbdtQJlsnM1hRIA</td>\n",
              "    </tr>\n",
              "  </tbody>\n",
              "</table>\n",
              "</div>\n",
              "      <button class=\"colab-df-convert\" onclick=\"convertToInteractive('df-af80e8fe-ac89-464e-9f8a-f9572af954f4')\"\n",
              "              title=\"Convert this dataframe to an interactive table.\"\n",
              "              style=\"display:none;\">\n",
              "        \n",
              "  <svg xmlns=\"http://www.w3.org/2000/svg\" height=\"24px\"viewBox=\"0 0 24 24\"\n",
              "       width=\"24px\">\n",
              "    <path d=\"M0 0h24v24H0V0z\" fill=\"none\"/>\n",
              "    <path d=\"M18.56 5.44l.94 2.06.94-2.06 2.06-.94-2.06-.94-.94-2.06-.94 2.06-2.06.94zm-11 1L8.5 8.5l.94-2.06 2.06-.94-2.06-.94L8.5 2.5l-.94 2.06-2.06.94zm10 10l.94 2.06.94-2.06 2.06-.94-2.06-.94-.94-2.06-.94 2.06-2.06.94z\"/><path d=\"M17.41 7.96l-1.37-1.37c-.4-.4-.92-.59-1.43-.59-.52 0-1.04.2-1.43.59L10.3 9.45l-7.72 7.72c-.78.78-.78 2.05 0 2.83L4 21.41c.39.39.9.59 1.41.59.51 0 1.02-.2 1.41-.59l7.78-7.78 2.81-2.81c.8-.78.8-2.07 0-2.86zM5.41 20L4 18.59l7.72-7.72 1.47 1.35L5.41 20z\"/>\n",
              "  </svg>\n",
              "      </button>\n",
              "      \n",
              "  <style>\n",
              "    .colab-df-container {\n",
              "      display:flex;\n",
              "      flex-wrap:wrap;\n",
              "      gap: 12px;\n",
              "    }\n",
              "\n",
              "    .colab-df-convert {\n",
              "      background-color: #E8F0FE;\n",
              "      border: none;\n",
              "      border-radius: 50%;\n",
              "      cursor: pointer;\n",
              "      display: none;\n",
              "      fill: #1967D2;\n",
              "      height: 32px;\n",
              "      padding: 0 0 0 0;\n",
              "      width: 32px;\n",
              "    }\n",
              "\n",
              "    .colab-df-convert:hover {\n",
              "      background-color: #E2EBFA;\n",
              "      box-shadow: 0px 1px 2px rgba(60, 64, 67, 0.3), 0px 1px 3px 1px rgba(60, 64, 67, 0.15);\n",
              "      fill: #174EA6;\n",
              "    }\n",
              "\n",
              "    [theme=dark] .colab-df-convert {\n",
              "      background-color: #3B4455;\n",
              "      fill: #D2E3FC;\n",
              "    }\n",
              "\n",
              "    [theme=dark] .colab-df-convert:hover {\n",
              "      background-color: #434B5C;\n",
              "      box-shadow: 0px 1px 3px 1px rgba(0, 0, 0, 0.15);\n",
              "      filter: drop-shadow(0px 1px 2px rgba(0, 0, 0, 0.3));\n",
              "      fill: #FFFFFF;\n",
              "    }\n",
              "  </style>\n",
              "\n",
              "      <script>\n",
              "        const buttonEl =\n",
              "          document.querySelector('#df-af80e8fe-ac89-464e-9f8a-f9572af954f4 button.colab-df-convert');\n",
              "        buttonEl.style.display =\n",
              "          google.colab.kernel.accessAllowed ? 'block' : 'none';\n",
              "\n",
              "        async function convertToInteractive(key) {\n",
              "          const element = document.querySelector('#df-af80e8fe-ac89-464e-9f8a-f9572af954f4');\n",
              "          const dataTable =\n",
              "            await google.colab.kernel.invokeFunction('convertToInteractive',\n",
              "                                                     [key], {});\n",
              "          if (!dataTable) return;\n",
              "\n",
              "          const docLinkHtml = 'Like what you see? Visit the ' +\n",
              "            '<a target=\"_blank\" href=https://colab.research.google.com/notebooks/data_table.ipynb>data table notebook</a>'\n",
              "            + ' to learn more about interactive tables.';\n",
              "          element.innerHTML = '';\n",
              "          dataTable['output_type'] = 'display_data';\n",
              "          await google.colab.output.renderOutput(dataTable, element);\n",
              "          const docLink = document.createElement('div');\n",
              "          docLink.innerHTML = docLinkHtml;\n",
              "          element.appendChild(docLink);\n",
              "        }\n",
              "      </script>\n",
              "    </div>\n",
              "  </div>\n",
              "  "
            ]
          },
          "metadata": {},
          "execution_count": 191
        }
      ]
    },
    {
      "cell_type": "markdown",
      "source": [
        "#### Export cleaned Albums:\n"
      ],
      "metadata": {
        "id": "Y30K0BDgbL8E"
      }
    },
    {
      "cell_type": "code",
      "source": [
        "albums.to_csv('clean_albums.csv', index = False) \n",
        "files.download('clean_albums.csv')"
      ],
      "metadata": {
        "id": "QsLEV-K5bOc2",
        "colab": {
          "base_uri": "https://localhost:8080/",
          "height": 17
        },
        "outputId": "9aa735a3-7863-4a68-ef0d-48bdc110e7b1"
      },
      "execution_count": 192,
      "outputs": [
        {
          "output_type": "display_data",
          "data": {
            "text/plain": [
              "<IPython.core.display.Javascript object>"
            ],
            "application/javascript": [
              "\n",
              "    async function download(id, filename, size) {\n",
              "      if (!google.colab.kernel.accessAllowed) {\n",
              "        return;\n",
              "      }\n",
              "      const div = document.createElement('div');\n",
              "      const label = document.createElement('label');\n",
              "      label.textContent = `Downloading \"${filename}\": `;\n",
              "      div.appendChild(label);\n",
              "      const progress = document.createElement('progress');\n",
              "      progress.max = size;\n",
              "      div.appendChild(progress);\n",
              "      document.body.appendChild(div);\n",
              "\n",
              "      const buffers = [];\n",
              "      let downloaded = 0;\n",
              "\n",
              "      const channel = await google.colab.kernel.comms.open(id);\n",
              "      // Send a message to notify the kernel that we're ready.\n",
              "      channel.send({})\n",
              "\n",
              "      for await (const message of channel.messages) {\n",
              "        // Send a message to notify the kernel that we're ready.\n",
              "        channel.send({})\n",
              "        if (message.buffers) {\n",
              "          for (const buffer of message.buffers) {\n",
              "            buffers.push(buffer);\n",
              "            downloaded += buffer.byteLength;\n",
              "            progress.value = downloaded;\n",
              "          }\n",
              "        }\n",
              "      }\n",
              "      const blob = new Blob(buffers, {type: 'application/binary'});\n",
              "      const a = document.createElement('a');\n",
              "      a.href = window.URL.createObjectURL(blob);\n",
              "      a.download = filename;\n",
              "      div.appendChild(a);\n",
              "      a.click();\n",
              "      div.remove();\n",
              "    }\n",
              "  "
            ]
          },
          "metadata": {}
        },
        {
          "output_type": "display_data",
          "data": {
            "text/plain": [
              "<IPython.core.display.Javascript object>"
            ],
            "application/javascript": [
              "download(\"download_7de8af06-bd85-499e-93fb-1d557691c00b\", \"clean_albums.csv\", 34696407)"
            ]
          },
          "metadata": {}
        }
      ]
    },
    {
      "cell_type": "markdown",
      "source": [
        "# tracks.csv"
      ],
      "metadata": {
        "id": "bH97n9CGVidM"
      }
    },
    {
      "cell_type": "code",
      "source": [
        "tracks = pd.read_csv('/content/drive/MyDrive/Colab Notebooks/Data/spotify_tracks.csv')"
      ],
      "metadata": {
        "id": "1I_PDSwHNrcE"
      },
      "execution_count": 193,
      "outputs": []
    },
    {
      "cell_type": "markdown",
      "source": [
        "Data Cleaning:"
      ],
      "metadata": {
        "id": "lgOAwfIPPuJJ"
      }
    },
    {
      "cell_type": "code",
      "source": [
        "# Drop first column \n",
        "tracks = tracks.iloc[: , 1:]"
      ],
      "metadata": {
        "id": "2lhOYTjFOc7d"
      },
      "execution_count": 194,
      "outputs": []
    },
    {
      "cell_type": "code",
      "source": [
        "# check null value for entire df:\n",
        "tracks.isnull().values.any()"
      ],
      "metadata": {
        "colab": {
          "base_uri": "https://localhost:8080/"
        },
        "id": "Vc3zOycjOnRG",
        "outputId": "f4532bc1-ff99-4d0c-df9e-72a840068854"
      },
      "execution_count": 195,
      "outputs": [
        {
          "output_type": "execute_result",
          "data": {
            "text/plain": [
              "False"
            ]
          },
          "metadata": {},
          "execution_count": 195
        }
      ]
    },
    {
      "cell_type": "code",
      "source": [
        "# drop column: artists_id\n",
        "tracks.drop(['artists_id'], axis=1, inplace=True)"
      ],
      "metadata": {
        "id": "yfUQbZtQZ-kh"
      },
      "execution_count": 196,
      "outputs": []
    },
    {
      "cell_type": "code",
      "source": [
        "# drop column: track_name_prev\n",
        "tracks.drop(['track_name_prev'], axis=1, inplace=True)"
      ],
      "metadata": {
        "id": "p0_ghi_8Z88W"
      },
      "execution_count": 197,
      "outputs": []
    },
    {
      "cell_type": "code",
      "source": [
        "# drop column: uri\n",
        "tracks.drop(['uri'], axis=1, inplace=True)"
      ],
      "metadata": {
        "id": "NhXe0tFnZ85f"
      },
      "execution_count": 198,
      "outputs": []
    },
    {
      "cell_type": "code",
      "source": [
        "# drop column: type\n",
        "tracks.drop(['type'], axis=1, inplace=True)"
      ],
      "metadata": {
        "id": "vd5R3RfDc1un"
      },
      "execution_count": 199,
      "outputs": []
    },
    {
      "cell_type": "code",
      "source": [
        "# drop column: analysis_url\n",
        "tracks.drop(['analysis_url'], axis=1, inplace=True)"
      ],
      "metadata": {
        "id": "qFKV_CxHc1nv"
      },
      "execution_count": 200,
      "outputs": []
    },
    {
      "cell_type": "code",
      "source": [
        "# drop column: lyrics\n",
        "tracks.drop(['lyrics'], axis=1, inplace=True)"
      ],
      "metadata": {
        "id": "lXtdEHTI7Mlz"
      },
      "execution_count": 201,
      "outputs": []
    },
    {
      "cell_type": "code",
      "source": [
        "# drop column: href\n",
        "tracks.drop(['href'], axis=1, inplace=True)"
      ],
      "metadata": {
        "id": "40r--ZeUdAvf"
      },
      "execution_count": 202,
      "outputs": []
    },
    {
      "cell_type": "code",
      "source": [
        "# drop column: track_href\n",
        "tracks.drop(['track_href'], axis=1, inplace=True)"
      ],
      "metadata": {
        "id": "qJ7jI-aadAtC"
      },
      "execution_count": 203,
      "outputs": []
    },
    {
      "cell_type": "code",
      "source": [
        "# drop column: available_markets\n",
        "tracks.drop(['available_markets'], axis=1, inplace=True)"
      ],
      "metadata": {
        "id": "dC_pN2ryqhCW"
      },
      "execution_count": 204,
      "outputs": []
    },
    {
      "cell_type": "markdown",
      "source": [
        "Change Data Types:"
      ],
      "metadata": {
        "id": "8OKIwaWMP1Jo"
      }
    },
    {
      "cell_type": "code",
      "source": [
        "# Change the 'disc_number' column's data type\n",
        "tracks['disc_number'] = tracks['disc_number'].astype(int)"
      ],
      "metadata": {
        "id": "kNWbNtobHrjK"
      },
      "execution_count": 205,
      "outputs": []
    },
    {
      "cell_type": "code",
      "source": [
        "# Change the 'duration_ms' column's data type\n",
        "tracks['duration_ms'] = tracks['duration_ms'].astype(int)"
      ],
      "metadata": {
        "id": "Sa0gAq2oIsAW"
      },
      "execution_count": 206,
      "outputs": []
    },
    {
      "cell_type": "code",
      "source": [
        "# Change the 'key' column's data type\n",
        "tracks['key'] = tracks['key'].astype(int)"
      ],
      "metadata": {
        "id": "aQGEqdagPJE7"
      },
      "execution_count": 207,
      "outputs": []
    },
    {
      "cell_type": "code",
      "source": [
        "# Change the 'mode' column's data type\n",
        "tracks['mode'] = tracks['mode'].astype(int)"
      ],
      "metadata": {
        "id": "nOnuxP85PJCJ"
      },
      "execution_count": 208,
      "outputs": []
    },
    {
      "cell_type": "code",
      "source": [
        "# Change the 'popularity' column's data type\n",
        "tracks['popularity'] = tracks['popularity'].astype(int)"
      ],
      "metadata": {
        "id": "HaZrTmdJPI9J"
      },
      "execution_count": 209,
      "outputs": []
    },
    {
      "cell_type": "code",
      "source": [
        "# Change the 'time_signature' column's data type\n",
        "tracks['time_signature'] = tracks['time_signature'].astype(int)"
      ],
      "metadata": {
        "id": "InCSDwd0PI0b"
      },
      "execution_count": 210,
      "outputs": []
    },
    {
      "cell_type": "code",
      "source": [
        "# Change the 'track_number' column's data type\n",
        "tracks['track_number'] = tracks['track_number'].astype(int)"
      ],
      "metadata": {
        "id": "3XgSRpp5RoCz"
      },
      "execution_count": 211,
      "outputs": []
    },
    {
      "cell_type": "markdown",
      "source": [
        "Change Column Name:"
      ],
      "metadata": {
        "id": "UAMtpHe1QsLU"
      }
    },
    {
      "cell_type": "code",
      "source": [
        "# change column name\n",
        "tracks = tracks.rename(columns = {'key':'on_key'})"
      ],
      "metadata": {
        "id": "RKsiiaKC4LI5"
      },
      "execution_count": 212,
      "outputs": []
    },
    {
      "cell_type": "code",
      "source": [
        "tracks.shape"
      ],
      "metadata": {
        "colab": {
          "base_uri": "https://localhost:8080/"
        },
        "id": "z-L1BSbPQKS2",
        "outputId": "f823cc1f-227f-4a29-fb0d-83c63d92a55f"
      },
      "execution_count": 213,
      "outputs": [
        {
          "output_type": "execute_result",
          "data": {
            "text/plain": [
              "(101939, 22)"
            ]
          },
          "metadata": {},
          "execution_count": 213
        }
      ]
    },
    {
      "cell_type": "markdown",
      "source": [
        "Delete tuples which do not match with the primary key from another table:"
      ],
      "metadata": {
        "id": "DJfz1he_Q0Js"
      }
    },
    {
      "cell_type": "code",
      "source": [
        "boolean_series = tracks['album_id'].isin(albums_primary_keys)\n",
        "tracks = tracks[boolean_series]\n",
        "tracks = tracks.reset_index()\n",
        "tracks = tracks.iloc[: , 1:]"
      ],
      "metadata": {
        "id": "JPo4OvZuegU1"
      },
      "execution_count": 214,
      "outputs": []
    },
    {
      "cell_type": "code",
      "source": [
        "tracks.shape"
      ],
      "metadata": {
        "colab": {
          "base_uri": "https://localhost:8080/"
        },
        "id": "bczzQAfKegR1",
        "outputId": "995fef40-4153-49f3-ca1f-5775ce0c601b"
      },
      "execution_count": 215,
      "outputs": [
        {
          "output_type": "execute_result",
          "data": {
            "text/plain": [
              "(101144, 22)"
            ]
          },
          "metadata": {},
          "execution_count": 215
        }
      ]
    },
    {
      "cell_type": "markdown",
      "source": [
        "Re-arrange column names so that PRIMARY KEY is the first column & FOREIGN KEY is the last column:"
      ],
      "metadata": {
        "id": "hh4YlFCfQKH1"
      }
    },
    {
      "cell_type": "code",
      "source": [
        "tracks.columns"
      ],
      "metadata": {
        "colab": {
          "base_uri": "https://localhost:8080/"
        },
        "id": "kRQK1VhOQJ9E",
        "outputId": "eecf3a7e-8a76-4e5c-9abd-7b9c93e8ce30"
      },
      "execution_count": 216,
      "outputs": [
        {
          "output_type": "execute_result",
          "data": {
            "text/plain": [
              "Index(['acousticness', 'album_id', 'country', 'danceability', 'disc_number',\n",
              "       'duration_ms', 'energy', 'id', 'instrumentalness', 'on_key', 'liveness',\n",
              "       'loudness', 'mode', 'name', 'playlist', 'popularity', 'preview_url',\n",
              "       'speechiness', 'tempo', 'time_signature', 'track_number', 'valence'],\n",
              "      dtype='object')"
            ]
          },
          "metadata": {},
          "execution_count": 216
        }
      ]
    },
    {
      "cell_type": "code",
      "source": [
        "neworder = ['id', 'name', 'preview_url', 'country', 'duration_ms', 'popularity','playlist', 'disc_number', 'track_number', \n",
        "            'on_key', 'time_signature', 'mode', 'acousticness', 'danceability', 'energy', 'instrumentalness', 'liveness',\n",
        "            'loudness', 'speechiness', 'tempo', 'valence', 'album_id']\n",
        "tracks = tracks.reindex(columns = neworder)"
      ],
      "metadata": {
        "id": "9SPvjGfgQJ6b"
      },
      "execution_count": 217,
      "outputs": []
    },
    {
      "cell_type": "code",
      "source": [
        "# tracks['playlist'].value_counts()"
      ],
      "metadata": {
        "id": "5luZSf7kSVMJ"
      },
      "execution_count": 223,
      "outputs": []
    },
    {
      "cell_type": "code",
      "source": [
        "tracks.info()"
      ],
      "metadata": {
        "colab": {
          "base_uri": "https://localhost:8080/"
        },
        "id": "jNLcbRSPQHT-",
        "outputId": "a76d564e-16ed-4f83-8f09-c2ecb23285c7"
      },
      "execution_count": 219,
      "outputs": [
        {
          "output_type": "stream",
          "name": "stdout",
          "text": [
            "<class 'pandas.core.frame.DataFrame'>\n",
            "RangeIndex: 101144 entries, 0 to 101143\n",
            "Data columns (total 22 columns):\n",
            " #   Column            Non-Null Count   Dtype  \n",
            "---  ------            --------------   -----  \n",
            " 0   id                101144 non-null  object \n",
            " 1   name              101144 non-null  object \n",
            " 2   preview_url       101144 non-null  object \n",
            " 3   country           101144 non-null  object \n",
            " 4   duration_ms       101144 non-null  int64  \n",
            " 5   popularity        101144 non-null  int64  \n",
            " 6   playlist          101144 non-null  object \n",
            " 7   disc_number       101144 non-null  int64  \n",
            " 8   track_number      101144 non-null  int64  \n",
            " 9   on_key            101144 non-null  int64  \n",
            " 10  time_signature    101144 non-null  int64  \n",
            " 11  mode              101144 non-null  int64  \n",
            " 12  acousticness      101144 non-null  float64\n",
            " 13  danceability      101144 non-null  float64\n",
            " 14  energy            101144 non-null  float64\n",
            " 15  instrumentalness  101144 non-null  float64\n",
            " 16  liveness          101144 non-null  float64\n",
            " 17  loudness          101144 non-null  float64\n",
            " 18  speechiness       101144 non-null  float64\n",
            " 19  tempo             101144 non-null  float64\n",
            " 20  valence           101144 non-null  float64\n",
            " 21  album_id          101144 non-null  object \n",
            "dtypes: float64(9), int64(7), object(6)\n",
            "memory usage: 17.0+ MB\n"
          ]
        }
      ]
    },
    {
      "cell_type": "code",
      "source": [
        "tracks.head(2)"
      ],
      "metadata": {
        "colab": {
          "base_uri": "https://localhost:8080/",
          "height": 257
        },
        "id": "6_svO1tAq1vU",
        "outputId": "3a9d5676-9c81-4be9-b96f-b6e880e25f17"
      },
      "execution_count": 220,
      "outputs": [
        {
          "output_type": "execute_result",
          "data": {
            "text/plain": [
              "                       id               name  \\\n",
              "0  5qljLQuKnNJf4F4vfxQB0V              Blood   \n",
              "1  3VAX2MJdmdqARLSU5hPMpm  The Ugly Duckling   \n",
              "\n",
              "                                         preview_url country  duration_ms  \\\n",
              "0  https://p.scdn.co/mp3-preview/1b05a902da3a251d...      BE       235584   \n",
              "1  https://p.scdn.co/mp3-preview/d8140736a6131cb5...      BE       656960   \n",
              "\n",
              "   popularity         playlist  disc_number  track_number  on_key  ...  \\\n",
              "0          28  Hipsteribrunssi            1             1      10  ...   \n",
              "1          31   Animal Stories            1             3       6  ...   \n",
              "\n",
              "   acousticness  danceability  energy  instrumentalness  liveness  loudness  \\\n",
              "0         0.294         0.698   0.606          0.000003     0.151    -7.447   \n",
              "1         0.863         0.719   0.308          0.000000     0.253   -10.340   \n",
              "\n",
              "   speechiness    tempo  valence                album_id  \n",
              "0       0.0262  115.018    0.622  0D3QufeCudpQANOR7luqdr  \n",
              "1       0.9220  115.075    0.589  1bcqsH5UyTBzmh9YizdsBE  \n",
              "\n",
              "[2 rows x 22 columns]"
            ],
            "text/html": [
              "\n",
              "  <div id=\"df-f8b12a87-5c88-443c-8af1-6a510556bdfa\">\n",
              "    <div class=\"colab-df-container\">\n",
              "      <div>\n",
              "<style scoped>\n",
              "    .dataframe tbody tr th:only-of-type {\n",
              "        vertical-align: middle;\n",
              "    }\n",
              "\n",
              "    .dataframe tbody tr th {\n",
              "        vertical-align: top;\n",
              "    }\n",
              "\n",
              "    .dataframe thead th {\n",
              "        text-align: right;\n",
              "    }\n",
              "</style>\n",
              "<table border=\"1\" class=\"dataframe\">\n",
              "  <thead>\n",
              "    <tr style=\"text-align: right;\">\n",
              "      <th></th>\n",
              "      <th>id</th>\n",
              "      <th>name</th>\n",
              "      <th>preview_url</th>\n",
              "      <th>country</th>\n",
              "      <th>duration_ms</th>\n",
              "      <th>popularity</th>\n",
              "      <th>playlist</th>\n",
              "      <th>disc_number</th>\n",
              "      <th>track_number</th>\n",
              "      <th>on_key</th>\n",
              "      <th>...</th>\n",
              "      <th>acousticness</th>\n",
              "      <th>danceability</th>\n",
              "      <th>energy</th>\n",
              "      <th>instrumentalness</th>\n",
              "      <th>liveness</th>\n",
              "      <th>loudness</th>\n",
              "      <th>speechiness</th>\n",
              "      <th>tempo</th>\n",
              "      <th>valence</th>\n",
              "      <th>album_id</th>\n",
              "    </tr>\n",
              "  </thead>\n",
              "  <tbody>\n",
              "    <tr>\n",
              "      <th>0</th>\n",
              "      <td>5qljLQuKnNJf4F4vfxQB0V</td>\n",
              "      <td>Blood</td>\n",
              "      <td>https://p.scdn.co/mp3-preview/1b05a902da3a251d...</td>\n",
              "      <td>BE</td>\n",
              "      <td>235584</td>\n",
              "      <td>28</td>\n",
              "      <td>Hipsteribrunssi</td>\n",
              "      <td>1</td>\n",
              "      <td>1</td>\n",
              "      <td>10</td>\n",
              "      <td>...</td>\n",
              "      <td>0.294</td>\n",
              "      <td>0.698</td>\n",
              "      <td>0.606</td>\n",
              "      <td>0.000003</td>\n",
              "      <td>0.151</td>\n",
              "      <td>-7.447</td>\n",
              "      <td>0.0262</td>\n",
              "      <td>115.018</td>\n",
              "      <td>0.622</td>\n",
              "      <td>0D3QufeCudpQANOR7luqdr</td>\n",
              "    </tr>\n",
              "    <tr>\n",
              "      <th>1</th>\n",
              "      <td>3VAX2MJdmdqARLSU5hPMpm</td>\n",
              "      <td>The Ugly Duckling</td>\n",
              "      <td>https://p.scdn.co/mp3-preview/d8140736a6131cb5...</td>\n",
              "      <td>BE</td>\n",
              "      <td>656960</td>\n",
              "      <td>31</td>\n",
              "      <td>Animal Stories</td>\n",
              "      <td>1</td>\n",
              "      <td>3</td>\n",
              "      <td>6</td>\n",
              "      <td>...</td>\n",
              "      <td>0.863</td>\n",
              "      <td>0.719</td>\n",
              "      <td>0.308</td>\n",
              "      <td>0.000000</td>\n",
              "      <td>0.253</td>\n",
              "      <td>-10.340</td>\n",
              "      <td>0.9220</td>\n",
              "      <td>115.075</td>\n",
              "      <td>0.589</td>\n",
              "      <td>1bcqsH5UyTBzmh9YizdsBE</td>\n",
              "    </tr>\n",
              "  </tbody>\n",
              "</table>\n",
              "<p>2 rows × 22 columns</p>\n",
              "</div>\n",
              "      <button class=\"colab-df-convert\" onclick=\"convertToInteractive('df-f8b12a87-5c88-443c-8af1-6a510556bdfa')\"\n",
              "              title=\"Convert this dataframe to an interactive table.\"\n",
              "              style=\"display:none;\">\n",
              "        \n",
              "  <svg xmlns=\"http://www.w3.org/2000/svg\" height=\"24px\"viewBox=\"0 0 24 24\"\n",
              "       width=\"24px\">\n",
              "    <path d=\"M0 0h24v24H0V0z\" fill=\"none\"/>\n",
              "    <path d=\"M18.56 5.44l.94 2.06.94-2.06 2.06-.94-2.06-.94-.94-2.06-.94 2.06-2.06.94zm-11 1L8.5 8.5l.94-2.06 2.06-.94-2.06-.94L8.5 2.5l-.94 2.06-2.06.94zm10 10l.94 2.06.94-2.06 2.06-.94-2.06-.94-.94-2.06-.94 2.06-2.06.94z\"/><path d=\"M17.41 7.96l-1.37-1.37c-.4-.4-.92-.59-1.43-.59-.52 0-1.04.2-1.43.59L10.3 9.45l-7.72 7.72c-.78.78-.78 2.05 0 2.83L4 21.41c.39.39.9.59 1.41.59.51 0 1.02-.2 1.41-.59l7.78-7.78 2.81-2.81c.8-.78.8-2.07 0-2.86zM5.41 20L4 18.59l7.72-7.72 1.47 1.35L5.41 20z\"/>\n",
              "  </svg>\n",
              "      </button>\n",
              "      \n",
              "  <style>\n",
              "    .colab-df-container {\n",
              "      display:flex;\n",
              "      flex-wrap:wrap;\n",
              "      gap: 12px;\n",
              "    }\n",
              "\n",
              "    .colab-df-convert {\n",
              "      background-color: #E8F0FE;\n",
              "      border: none;\n",
              "      border-radius: 50%;\n",
              "      cursor: pointer;\n",
              "      display: none;\n",
              "      fill: #1967D2;\n",
              "      height: 32px;\n",
              "      padding: 0 0 0 0;\n",
              "      width: 32px;\n",
              "    }\n",
              "\n",
              "    .colab-df-convert:hover {\n",
              "      background-color: #E2EBFA;\n",
              "      box-shadow: 0px 1px 2px rgba(60, 64, 67, 0.3), 0px 1px 3px 1px rgba(60, 64, 67, 0.15);\n",
              "      fill: #174EA6;\n",
              "    }\n",
              "\n",
              "    [theme=dark] .colab-df-convert {\n",
              "      background-color: #3B4455;\n",
              "      fill: #D2E3FC;\n",
              "    }\n",
              "\n",
              "    [theme=dark] .colab-df-convert:hover {\n",
              "      background-color: #434B5C;\n",
              "      box-shadow: 0px 1px 3px 1px rgba(0, 0, 0, 0.15);\n",
              "      filter: drop-shadow(0px 1px 2px rgba(0, 0, 0, 0.3));\n",
              "      fill: #FFFFFF;\n",
              "    }\n",
              "  </style>\n",
              "\n",
              "      <script>\n",
              "        const buttonEl =\n",
              "          document.querySelector('#df-f8b12a87-5c88-443c-8af1-6a510556bdfa button.colab-df-convert');\n",
              "        buttonEl.style.display =\n",
              "          google.colab.kernel.accessAllowed ? 'block' : 'none';\n",
              "\n",
              "        async function convertToInteractive(key) {\n",
              "          const element = document.querySelector('#df-f8b12a87-5c88-443c-8af1-6a510556bdfa');\n",
              "          const dataTable =\n",
              "            await google.colab.kernel.invokeFunction('convertToInteractive',\n",
              "                                                     [key], {});\n",
              "          if (!dataTable) return;\n",
              "\n",
              "          const docLinkHtml = 'Like what you see? Visit the ' +\n",
              "            '<a target=\"_blank\" href=https://colab.research.google.com/notebooks/data_table.ipynb>data table notebook</a>'\n",
              "            + ' to learn more about interactive tables.';\n",
              "          element.innerHTML = '';\n",
              "          dataTable['output_type'] = 'display_data';\n",
              "          await google.colab.output.renderOutput(dataTable, element);\n",
              "          const docLink = document.createElement('div');\n",
              "          docLink.innerHTML = docLinkHtml;\n",
              "          element.appendChild(docLink);\n",
              "        }\n",
              "      </script>\n",
              "    </div>\n",
              "  </div>\n",
              "  "
            ]
          },
          "metadata": {},
          "execution_count": 220
        }
      ]
    },
    {
      "cell_type": "markdown",
      "source": [
        "#### Export cleaned Tracks:\n"
      ],
      "metadata": {
        "id": "TchXAvg5bgTO"
      }
    },
    {
      "cell_type": "code",
      "source": [
        "tracks.to_csv('clean_tracks.csv', index = False) \n",
        "files.download('clean_tracks.csv')"
      ],
      "metadata": {
        "id": "twP08xsSVDNh",
        "colab": {
          "base_uri": "https://localhost:8080/",
          "height": 17
        },
        "outputId": "c13d45cc-dbdf-447f-a52d-133991c58e32"
      },
      "execution_count": 221,
      "outputs": [
        {
          "output_type": "display_data",
          "data": {
            "text/plain": [
              "<IPython.core.display.Javascript object>"
            ],
            "application/javascript": [
              "\n",
              "    async function download(id, filename, size) {\n",
              "      if (!google.colab.kernel.accessAllowed) {\n",
              "        return;\n",
              "      }\n",
              "      const div = document.createElement('div');\n",
              "      const label = document.createElement('label');\n",
              "      label.textContent = `Downloading \"${filename}\": `;\n",
              "      div.appendChild(label);\n",
              "      const progress = document.createElement('progress');\n",
              "      progress.max = size;\n",
              "      div.appendChild(progress);\n",
              "      document.body.appendChild(div);\n",
              "\n",
              "      const buffers = [];\n",
              "      let downloaded = 0;\n",
              "\n",
              "      const channel = await google.colab.kernel.comms.open(id);\n",
              "      // Send a message to notify the kernel that we're ready.\n",
              "      channel.send({})\n",
              "\n",
              "      for await (const message of channel.messages) {\n",
              "        // Send a message to notify the kernel that we're ready.\n",
              "        channel.send({})\n",
              "        if (message.buffers) {\n",
              "          for (const buffer of message.buffers) {\n",
              "            buffers.push(buffer);\n",
              "            downloaded += buffer.byteLength;\n",
              "            progress.value = downloaded;\n",
              "          }\n",
              "        }\n",
              "      }\n",
              "      const blob = new Blob(buffers, {type: 'application/binary'});\n",
              "      const a = document.createElement('a');\n",
              "      a.href = window.URL.createObjectURL(blob);\n",
              "      a.download = filename;\n",
              "      div.appendChild(a);\n",
              "      a.click();\n",
              "      div.remove();\n",
              "    }\n",
              "  "
            ]
          },
          "metadata": {}
        },
        {
          "output_type": "display_data",
          "data": {
            "text/plain": [
              "<IPython.core.display.Javascript object>"
            ],
            "application/javascript": [
              "download(\"download_10abdc6a-2d4a-4edd-9913-15e7ca331f4f\", \"clean_tracks.csv\", 27609119)"
            ]
          },
          "metadata": {}
        }
      ]
    },
    {
      "cell_type": "code",
      "source": [
        ""
      ],
      "metadata": {
        "id": "dA4WAluqjrla"
      },
      "execution_count": null,
      "outputs": []
    }
  ]
}